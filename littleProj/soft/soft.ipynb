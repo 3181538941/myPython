{
 "cells": [
  {
   "cell_type": "code",
   "source": [
    "import urllib.request\n",
    "\n",
    "url = r'https://mp.weixin.qq.com/s/0P2XRFCN7d7MTMQQtScr7A'\n",
    "\n",
    "headers = {\n",
    "    'User-Agent': 'Mozilla/5.0 (Windows NT 10.0; Win64; x64) AppleWebKit/537.36 (KHTML, like Gecko) Chrome/101.0.4951.64 Safari/537.36 Edg/101.0.1210.53'\n",
    "}\n",
    "request = urllib.request.Request(url=url, headers=headers)\n",
    "response = urllib.request.urlopen(request)\n",
    "page = response.read().decode('utf-8')\n",
    "with open('soft.html', 'w', encoding='utf-8') as f:\n",
    "    f.write(page)\n",
    "print(len(page))"
   ],
   "metadata": {
    "collapsed": false,
    "pycharm": {
     "name": "#%%\n"
    }
   },
   "execution_count": 36,
   "outputs": []
  },
  {
   "cell_type": "code",
   "execution_count": 2,
   "outputs": [
    {
     "name": "stdout",
     "output_type": "stream",
     "text": [
      "624411\n"
     ]
    }
   ],
   "source": [
    "# 读取下载的html\n",
    "with open('soft.html', 'r', encoding='utf-8') as f:\n",
    "    f.seek(0)\n",
    "    html_doc = ''.join(f.read())\n",
    "# print(html_doc)\n",
    "# print(type(html_doc))\n",
    "print(len(html_doc))"
   ],
   "metadata": {
    "collapsed": false,
    "pycharm": {
     "name": "#%%\n"
    }
   }
  },
  {
   "cell_type": "code",
   "execution_count": 3,
   "outputs": [
    {
     "name": "stdout",
     "output_type": "stream",
     "text": [
      "698\n"
     ]
    }
   ],
   "source": [
    "# 导入所需库\n",
    "import re\n",
    "\n",
    "# 匹配a标签\n",
    "all_A = re.findall(r'<a\\b[^>]+\\bhref=\"([^\"]*)\"[^>]*>([\\s\\S]*?)</a>', html_doc)\n",
    "# print(all_A)\n",
    "print(len(all_A))"
   ],
   "metadata": {
    "collapsed": false,
    "pycharm": {
     "name": "#%%\n"
    }
   }
  },
  {
   "cell_type": "code",
   "execution_count": 5,
   "outputs": [
    {
     "name": "stdout",
     "output_type": "stream",
     "text": [
      "['V-Ray5.2']\n",
      "('http://mp.weixin.qq.com/s?__biz=MzA4MjU4MTg2Ng==&amp;mid=2247498667&amp;idx=4&amp;sn=d8080f496ae298283ca83f3b7e472dc0&amp;chksm=9f813baea8f6b2b86de1ceef931b3ac2e721283b3f9048422fff86bb05da59a880a4a87bf6f5&amp;scene=21#wechat_redirect', '<span style=\"font-size: 14px;\">V-Ray5.2</span>')\n",
      "('https://mp.weixin.qq.com/mp/homepage?__biz=MzA4MjU4MTg2Ng==&amp;hid=18&amp;sn=2dccf8223c0bac443c2b8f260731278a', '「软件管家」')\n"
     ]
    }
   ],
   "source": [
    "# 测试\n",
    "name = re.findall(r\"<span.*>(.*?)</span>\", str(all_A[350]))\n",
    "print(name)\n",
    "print(all_A[350])\n",
    "print(all_A[1])"
   ],
   "metadata": {
    "collapsed": false,
    "pycharm": {
     "name": "#%%\n"
    }
   }
  },
  {
   "cell_type": "code",
   "execution_count": 4,
   "outputs": [
    {
     "name": "stdout",
     "output_type": "stream",
     "text": [
      "678\n"
     ]
    }
   ],
   "source": [
    "# 处理匹配后的a标签\n",
    "nameHrefDict = {}\n",
    "for key, value in enumerate(all_A):\n",
    "    if value[0].startswith('http://mp.weixin.qq.com/s?__biz=MzA4MjU4MTg2Ng==&amp'):\n",
    "        name = ''.join(re.findall(r\"<span.*?>(.*?)</span>\", value[1]))\n",
    "        if name == '':\n",
    "            name = value[1]\n",
    "        # print(key, name, value[0])\n",
    "        nameHrefDict[name] = value[0]\n",
    "print(len(nameHrefDict))  # 660\n",
    "# nameHrefDict"
   ],
   "metadata": {
    "collapsed": false,
    "pycharm": {
     "name": "#%%\n"
    }
   }
  },
  {
   "cell_type": "code",
   "execution_count": 42,
   "outputs": [],
   "source": [
    "# 存入数据库\n",
    "import pymysql\n",
    "\n",
    "config = {\n",
    "    'host'    : \"localhost\",\n",
    "    'port'    : 3306,\n",
    "    'user'    : \"root\",\n",
    "    'passwd'  : \"031214\",\n",
    "    'charset' : 'utf8',\n",
    "    'database': 'mydata',\n",
    "}\n",
    "connect = pymysql.connect(**config)\n",
    "# 获取游标对象\n",
    "cursor = connect.cursor()\n",
    "# 提交MySQL命令\n",
    "for soft_name in nameHrefDict:\n",
    "    soft_url = nameHrefDict[soft_name]\n",
    "    cursor.execute(\"insert into mydata.soft(name, url) values(%s, %s)\", (soft_name, soft_url))\n",
    "# 提交事务\n",
    "connect.commit()\n",
    "# 关闭游标\n",
    "cursor.close()\n",
    "# 关闭连接\n",
    "connect.close()"
   ],
   "metadata": {
    "collapsed": false,
    "pycharm": {
     "name": "#%%\n"
    }
   }
  }
 ],
 "metadata": {
  "kernelspec": {
   "display_name": "Python 3",
   "language": "python",
   "name": "python3"
  },
  "language_info": {
   "codemirror_mode": {
    "name": "ipython",
    "version": 2
   },
   "file_extension": ".py",
   "mimetype": "text/x-python",
   "name": "python",
   "nbconvert_exporter": "python",
   "pygments_lexer": "ipython2",
   "version": "2.7.6"
  }
 },
 "nbformat": 4,
 "nbformat_minor": 0
}