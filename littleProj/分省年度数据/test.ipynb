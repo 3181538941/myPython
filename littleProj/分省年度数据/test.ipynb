{
 "cells": [
  {
   "cell_type": "code",
   "execution_count": 17,
   "outputs": [],
   "source": [
    "import numpy as np\n",
    "import pandas as pd"
   ],
   "metadata": {
    "collapsed": false,
    "pycharm": {
     "name": "#%%\n"
    }
   }
  },
  {
   "cell_type": "code",
   "execution_count": 27,
   "outputs": [
    {
     "data": {
      "text/plain": "           2020年   2019年   2018年   2017年   2016年   2015年   2014年   2013年  \\\n地区                                                                         \n北京市       259729  234121  205834  183183  170531  159486  148828  136599   \n天津市       146977  144510  128696  151778  137440  134331  116902  102922   \n河北省       100220   94052   86861   84317  109196   93983   83469   69718   \n山西省        90594   84761   83095   77870   64686   60160   56094   49299   \n内蒙古自治区    104563   91272   84163   74162   67444   65420   61123   54434   \n辽宁省       113412  106814   99280   91990   88995   83665   78751   72837   \n吉林省        81754   82785   82963   72064   64923   63448   56439   49288   \n黑龙江省       80673   71471   64022   65370   62707   64070   59055   55854   \n上海市       270619  237405  232522  212063  200657  183365  170174  153989   \n江苏省       162939  147409  144766  143002  130501  117249  102341   94616   \n浙江省       235430  223499  190839  165532  145657  126266  114908  106946   \n安徽省       101715   91580   84256   77304   72390   67922   62501   53755   \n福建省       131811  124370  107642   98427   93774   84288   78734   74101   \n江西省        95779   88865   82800   73333   71535   60353   56721   57867   \n山东省       105284  101077   98005   89063   84346   81249   77282   74249   \n河南省        83900   79992   79543   72373   62467   60671   52779   47671   \n湖北省       114162  104540  105918   88774   86398   72380   64563   56715   \n湖南省       107317   95989   96561   81785   76123   68020   58884   54344   \n广东省       193867  175333  158044  147039  135859  126083  108465  100186   \n广西壮族自治区   101642  107824   91934   93936   84064   76688   65285   58162   \n海南省       146342  113936  117730  124017  105687  115013   79160   78812   \n重庆市       137276  131356  123128  112043  100517   92958   84189   73598   \n四川省       128891  125696  110548   95805   88800   82883   77268   69552   \n贵州省       111635  104948  108388   91063   79355   80955   75068   64260   \n云南省       105698   92629   85135   80497   75240   72496   62746   56193   \n西藏自治区     142827  130430  123604   98423  103647   98675   80195   80988   \n陕西省       160066  152088  135541  130891  121311  104928   91423   69266   \n甘肃省        85034   80909   75412   67912   60292   54916   45628   39962   \n青海省       125531  107050   87547   79183   71273   72527   60662   49989   \n宁夏回族自治区   121971  104328  102816   90085   80617   77487   69067   65043   \n新疆维吾尔自治区  108429  104606  105184   98251   84086   78238   70757   64214   \n\n           2012年  \n地区                \n北京市       130154  \n天津市        87458  \n河北省        50628  \n山西省        38562  \n内蒙古自治区     45675  \n辽宁省        66914  \n吉林省        44257  \n黑龙江省       50042  \n上海市       127888  \n江苏省        80340  \n浙江省        96741  \n安徽省        47492  \n福建省        67917  \n江西省        44438  \n山东省        60459  \n河南省        44518  \n湖北省        44182  \n湖南省        47314  \n广东省        80595  \n广西壮族自治区    45815  \n海南省        67537  \n重庆市        70598  \n四川省        56506  \n贵州省        53384  \n云南省        48332  \n西藏自治区      36877  \n陕西省        56137  \n甘肃省        33062  \n青海省        54819  \n宁夏回族自治区    59420  \n新疆维吾尔自治区   54862  ",
      "text/html": "<div>\n<style scoped>\n    .dataframe tbody tr th:only-of-type {\n        vertical-align: middle;\n    }\n\n    .dataframe tbody tr th {\n        vertical-align: top;\n    }\n\n    .dataframe thead th {\n        text-align: right;\n    }\n</style>\n<table border=\"1\" class=\"dataframe\">\n  <thead>\n    <tr style=\"text-align: right;\">\n      <th></th>\n      <th>2020年</th>\n      <th>2019年</th>\n      <th>2018年</th>\n      <th>2017年</th>\n      <th>2016年</th>\n      <th>2015年</th>\n      <th>2014年</th>\n      <th>2013年</th>\n      <th>2012年</th>\n    </tr>\n    <tr>\n      <th>地区</th>\n      <th></th>\n      <th></th>\n      <th></th>\n      <th></th>\n      <th></th>\n      <th></th>\n      <th></th>\n      <th></th>\n      <th></th>\n    </tr>\n  </thead>\n  <tbody>\n    <tr>\n      <th>北京市</th>\n      <td>259729</td>\n      <td>234121</td>\n      <td>205834</td>\n      <td>183183</td>\n      <td>170531</td>\n      <td>159486</td>\n      <td>148828</td>\n      <td>136599</td>\n      <td>130154</td>\n    </tr>\n    <tr>\n      <th>天津市</th>\n      <td>146977</td>\n      <td>144510</td>\n      <td>128696</td>\n      <td>151778</td>\n      <td>137440</td>\n      <td>134331</td>\n      <td>116902</td>\n      <td>102922</td>\n      <td>87458</td>\n    </tr>\n    <tr>\n      <th>河北省</th>\n      <td>100220</td>\n      <td>94052</td>\n      <td>86861</td>\n      <td>84317</td>\n      <td>109196</td>\n      <td>93983</td>\n      <td>83469</td>\n      <td>69718</td>\n      <td>50628</td>\n    </tr>\n    <tr>\n      <th>山西省</th>\n      <td>90594</td>\n      <td>84761</td>\n      <td>83095</td>\n      <td>77870</td>\n      <td>64686</td>\n      <td>60160</td>\n      <td>56094</td>\n      <td>49299</td>\n      <td>38562</td>\n    </tr>\n    <tr>\n      <th>内蒙古自治区</th>\n      <td>104563</td>\n      <td>91272</td>\n      <td>84163</td>\n      <td>74162</td>\n      <td>67444</td>\n      <td>65420</td>\n      <td>61123</td>\n      <td>54434</td>\n      <td>45675</td>\n    </tr>\n    <tr>\n      <th>辽宁省</th>\n      <td>113412</td>\n      <td>106814</td>\n      <td>99280</td>\n      <td>91990</td>\n      <td>88995</td>\n      <td>83665</td>\n      <td>78751</td>\n      <td>72837</td>\n      <td>66914</td>\n    </tr>\n    <tr>\n      <th>吉林省</th>\n      <td>81754</td>\n      <td>82785</td>\n      <td>82963</td>\n      <td>72064</td>\n      <td>64923</td>\n      <td>63448</td>\n      <td>56439</td>\n      <td>49288</td>\n      <td>44257</td>\n    </tr>\n    <tr>\n      <th>黑龙江省</th>\n      <td>80673</td>\n      <td>71471</td>\n      <td>64022</td>\n      <td>65370</td>\n      <td>62707</td>\n      <td>64070</td>\n      <td>59055</td>\n      <td>55854</td>\n      <td>50042</td>\n    </tr>\n    <tr>\n      <th>上海市</th>\n      <td>270619</td>\n      <td>237405</td>\n      <td>232522</td>\n      <td>212063</td>\n      <td>200657</td>\n      <td>183365</td>\n      <td>170174</td>\n      <td>153989</td>\n      <td>127888</td>\n    </tr>\n    <tr>\n      <th>江苏省</th>\n      <td>162939</td>\n      <td>147409</td>\n      <td>144766</td>\n      <td>143002</td>\n      <td>130501</td>\n      <td>117249</td>\n      <td>102341</td>\n      <td>94616</td>\n      <td>80340</td>\n    </tr>\n    <tr>\n      <th>浙江省</th>\n      <td>235430</td>\n      <td>223499</td>\n      <td>190839</td>\n      <td>165532</td>\n      <td>145657</td>\n      <td>126266</td>\n      <td>114908</td>\n      <td>106946</td>\n      <td>96741</td>\n    </tr>\n    <tr>\n      <th>安徽省</th>\n      <td>101715</td>\n      <td>91580</td>\n      <td>84256</td>\n      <td>77304</td>\n      <td>72390</td>\n      <td>67922</td>\n      <td>62501</td>\n      <td>53755</td>\n      <td>47492</td>\n    </tr>\n    <tr>\n      <th>福建省</th>\n      <td>131811</td>\n      <td>124370</td>\n      <td>107642</td>\n      <td>98427</td>\n      <td>93774</td>\n      <td>84288</td>\n      <td>78734</td>\n      <td>74101</td>\n      <td>67917</td>\n    </tr>\n    <tr>\n      <th>江西省</th>\n      <td>95779</td>\n      <td>88865</td>\n      <td>82800</td>\n      <td>73333</td>\n      <td>71535</td>\n      <td>60353</td>\n      <td>56721</td>\n      <td>57867</td>\n      <td>44438</td>\n    </tr>\n    <tr>\n      <th>山东省</th>\n      <td>105284</td>\n      <td>101077</td>\n      <td>98005</td>\n      <td>89063</td>\n      <td>84346</td>\n      <td>81249</td>\n      <td>77282</td>\n      <td>74249</td>\n      <td>60459</td>\n    </tr>\n    <tr>\n      <th>河南省</th>\n      <td>83900</td>\n      <td>79992</td>\n      <td>79543</td>\n      <td>72373</td>\n      <td>62467</td>\n      <td>60671</td>\n      <td>52779</td>\n      <td>47671</td>\n      <td>44518</td>\n    </tr>\n    <tr>\n      <th>湖北省</th>\n      <td>114162</td>\n      <td>104540</td>\n      <td>105918</td>\n      <td>88774</td>\n      <td>86398</td>\n      <td>72380</td>\n      <td>64563</td>\n      <td>56715</td>\n      <td>44182</td>\n    </tr>\n    <tr>\n      <th>湖南省</th>\n      <td>107317</td>\n      <td>95989</td>\n      <td>96561</td>\n      <td>81785</td>\n      <td>76123</td>\n      <td>68020</td>\n      <td>58884</td>\n      <td>54344</td>\n      <td>47314</td>\n    </tr>\n    <tr>\n      <th>广东省</th>\n      <td>193867</td>\n      <td>175333</td>\n      <td>158044</td>\n      <td>147039</td>\n      <td>135859</td>\n      <td>126083</td>\n      <td>108465</td>\n      <td>100186</td>\n      <td>80595</td>\n    </tr>\n    <tr>\n      <th>广西壮族自治区</th>\n      <td>101642</td>\n      <td>107824</td>\n      <td>91934</td>\n      <td>93936</td>\n      <td>84064</td>\n      <td>76688</td>\n      <td>65285</td>\n      <td>58162</td>\n      <td>45815</td>\n    </tr>\n    <tr>\n      <th>海南省</th>\n      <td>146342</td>\n      <td>113936</td>\n      <td>117730</td>\n      <td>124017</td>\n      <td>105687</td>\n      <td>115013</td>\n      <td>79160</td>\n      <td>78812</td>\n      <td>67537</td>\n    </tr>\n    <tr>\n      <th>重庆市</th>\n      <td>137276</td>\n      <td>131356</td>\n      <td>123128</td>\n      <td>112043</td>\n      <td>100517</td>\n      <td>92958</td>\n      <td>84189</td>\n      <td>73598</td>\n      <td>70598</td>\n    </tr>\n    <tr>\n      <th>四川省</th>\n      <td>128891</td>\n      <td>125696</td>\n      <td>110548</td>\n      <td>95805</td>\n      <td>88800</td>\n      <td>82883</td>\n      <td>77268</td>\n      <td>69552</td>\n      <td>56506</td>\n    </tr>\n    <tr>\n      <th>贵州省</th>\n      <td>111635</td>\n      <td>104948</td>\n      <td>108388</td>\n      <td>91063</td>\n      <td>79355</td>\n      <td>80955</td>\n      <td>75068</td>\n      <td>64260</td>\n      <td>53384</td>\n    </tr>\n    <tr>\n      <th>云南省</th>\n      <td>105698</td>\n      <td>92629</td>\n      <td>85135</td>\n      <td>80497</td>\n      <td>75240</td>\n      <td>72496</td>\n      <td>62746</td>\n      <td>56193</td>\n      <td>48332</td>\n    </tr>\n    <tr>\n      <th>西藏自治区</th>\n      <td>142827</td>\n      <td>130430</td>\n      <td>123604</td>\n      <td>98423</td>\n      <td>103647</td>\n      <td>98675</td>\n      <td>80195</td>\n      <td>80988</td>\n      <td>36877</td>\n    </tr>\n    <tr>\n      <th>陕西省</th>\n      <td>160066</td>\n      <td>152088</td>\n      <td>135541</td>\n      <td>130891</td>\n      <td>121311</td>\n      <td>104928</td>\n      <td>91423</td>\n      <td>69266</td>\n      <td>56137</td>\n    </tr>\n    <tr>\n      <th>甘肃省</th>\n      <td>85034</td>\n      <td>80909</td>\n      <td>75412</td>\n      <td>67912</td>\n      <td>60292</td>\n      <td>54916</td>\n      <td>45628</td>\n      <td>39962</td>\n      <td>33062</td>\n    </tr>\n    <tr>\n      <th>青海省</th>\n      <td>125531</td>\n      <td>107050</td>\n      <td>87547</td>\n      <td>79183</td>\n      <td>71273</td>\n      <td>72527</td>\n      <td>60662</td>\n      <td>49989</td>\n      <td>54819</td>\n    </tr>\n    <tr>\n      <th>宁夏回族自治区</th>\n      <td>121971</td>\n      <td>104328</td>\n      <td>102816</td>\n      <td>90085</td>\n      <td>80617</td>\n      <td>77487</td>\n      <td>69067</td>\n      <td>65043</td>\n      <td>59420</td>\n    </tr>\n    <tr>\n      <th>新疆维吾尔自治区</th>\n      <td>108429</td>\n      <td>104606</td>\n      <td>105184</td>\n      <td>98251</td>\n      <td>84086</td>\n      <td>78238</td>\n      <td>70757</td>\n      <td>64214</td>\n      <td>54862</td>\n    </tr>\n  </tbody>\n</table>\n</div>"
     },
     "execution_count": 27,
     "metadata": {},
     "output_type": "execute_result"
    }
   ],
   "source": [
    "df = pd.read_csv(\n",
    "    filepath_or_buffer='分省年度数据.csv',\n",
    "    index_col='地区',\n",
    "    header=0,\n",
    "    encoding='utf-8'\n",
    ")\n",
    "df"
   ],
   "metadata": {
    "collapsed": false,
    "pycharm": {
     "name": "#%%\n"
    }
   }
  },
  {
   "cell_type": "code",
   "execution_count": 10,
   "outputs": [
    {
     "name": "stdout",
     "output_type": "stream",
     "text": [
      "有效期至:  2022-06-23\n",
      "剩余天数:  -19\n",
      "当前日期:  2022-06-04\n"
     ]
    }
   ],
   "source": [],
   "metadata": {
    "collapsed": false,
    "pycharm": {
     "name": "#%%\n"
    }
   }
  }
 ],
 "metadata": {
  "kernelspec": {
   "display_name": "Python 3 (ipykernel)",
   "language": "python",
   "name": "python3"
  },
  "language_info": {
   "codemirror_mode": {
    "name": "ipython",
    "version": 3
   },
   "file_extension": ".py",
   "mimetype": "text/x-python",
   "name": "python",
   "nbconvert_exporter": "python",
   "pygments_lexer": "ipython3",
   "version": "3.9.5"
  }
 },
 "nbformat": 4,
 "nbformat_minor": 1
}