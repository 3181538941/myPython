{
 "cells": [
  {
   "cell_type": "code",
   "execution_count": 16,
   "outputs": [],
   "source": [
    "def save(data):\n",
    "    with open('img_out.dat', 'w', encoding='utf-8') as f:\n",
    "        f.write(data)"
   ],
   "metadata": {
    "collapsed": false,
    "pycharm": {
     "name": "#%%\n"
    }
   }
  },
  {
   "cell_type": "code",
   "execution_count": 23,
   "outputs": [],
   "source": [
    "with open('MVIMG_20220621_174330.jpg', 'rb') as f:\n",
    "    img = f.read()\n",
    "save(img.__str__())"
   ],
   "metadata": {
    "collapsed": false,
    "pycharm": {
     "name": "#%%\n"
    }
   }
  },
  {
   "cell_type": "code",
   "execution_count": 45,
   "outputs": [
    {
     "name": "stdout",
     "output_type": "stream",
     "text": [
      "RGB (4080, 3060) JPEG\n",
      "(3060, 4080, 3)\n",
      "[[ 79 155 230]\n",
      " [ 79 155 230]\n",
      " [ 79 155 230]\n",
      " ...\n",
      " [113 172 238]\n",
      " [113 172 238]\n",
      " [114 173 239]]\n"
     ]
    }
   ],
   "source": [
    "from PIL import Image\n",
    "img = Image.open('MVIMG_20220621_174330.jpg')\n",
    "# img.show()\n",
    "print(img.mode, img.size, img.format)\n",
    "\n",
    "import numpy as np\n",
    "array = np.array(img)\n",
    "print(array.shape)\n",
    "print(array[0])\n",
    "\n",
    "\n",
    "# np.save('npOut.txt', array)\n",
    "# save(str(array))\n",
    "# with open('npOut.dat', 'w', encoding='utf-8') as fp:\n",
    "#     array.tofile(fp)"
   ],
   "metadata": {
    "collapsed": false,
    "pycharm": {
     "name": "#%%\n"
    }
   }
  }
 ],
 "metadata": {
  "kernelspec": {
   "display_name": "Python 3",
   "language": "python",
   "name": "python3"
  },
  "language_info": {
   "codemirror_mode": {
    "name": "ipython",
    "version": 2
   },
   "file_extension": ".py",
   "mimetype": "text/x-python",
   "name": "python",
   "nbconvert_exporter": "python",
   "pygments_lexer": "ipython2",
   "version": "2.7.6"
  }
 },
 "nbformat": 4,
 "nbformat_minor": 0
}