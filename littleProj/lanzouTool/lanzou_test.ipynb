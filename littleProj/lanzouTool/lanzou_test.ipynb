{
 "cells": [
  {
   "cell_type": "code",
   "execution_count": 1,
   "metadata": {
    "collapsed": true
   },
   "outputs": [],
   "source": [
    "from lanzou.api import LanZouCloud\n",
    "\n",
    "lzy = LanZouCloud()"
   ]
  },
  {
   "cell_type": "code",
   "execution_count": 2,
   "metadata": {
    "pycharm": {
     "name": "#%%\n"
    }
   },
   "outputs": [],
   "source": [
    "cookie182 = {\n",
    "    'ylogin'      : '1688674',\n",
    "    'phpdisk_info': \"U2YFMVI4AzcPOwRjDmADUAZiUVpbM1E%2BBDVXM1RhV2VVYwA0BWNVbwAwVw5dPlBpAjEFZg9lUzQGMQJjBGQLbVM0BWVSZANsDzwEYA5sA24GZlE1WzZRNQQ%2BVzBUMFcwVWYAZAU0VWsAYVdjXQ5QOwJqBTUPYlM3BjUCYAQ0Cz1TYQU1\",\n",
    "}\n",
    "\n",
    "cookie131 = {\n",
    "    'ylogin'      : '2678914',\n",
    "    'phpdisk_info': 'AjRWYgdiATUAOwBhDGJTAAVhAAsKYlUxVGYCZQ44AzQENlJpA2EBPgE1AVgObQA5VWYEZwpgBWIDNFU0VzcKbAJlVjYHMQFuADMAZAxuUz4FZQBkCmdVMVRuAmUOagNkBDdSNgMyAT8BYAE1Dl0Aa1U2BDcKZAViAzVVM1doCjgCNVZi',\n",
    "}"
   ]
  },
  {
   "cell_type": "code",
   "execution_count": 3,
   "metadata": {
    "pycharm": {
     "name": "#%%\n"
    }
   },
   "outputs": [
    {
     "data": {
      "text/plain": "True"
     },
     "execution_count": 3,
     "metadata": {},
     "output_type": "execute_result"
    }
   ],
   "source": [
    "# LanZouCloud.SUCCESS == lzy.login_by_cookie(cookie182)\n",
    "LanZouCloud.SUCCESS == lzy.login_by_cookie(cookie131)"
   ]
  },
  {
   "cell_type": "markdown",
   "metadata": {
    "pycharm": {
     "name": "#%% md\n"
    }
   },
   "source": [
    "# 通过 id 获取文件夹的绝对路径\n",
    "lzy.get_full_path(2902779)"
   ]
  },
  {
   "cell_type": "code",
   "metadata": {
    "pycharm": {
     "name": "#%%\n"
    }
   },
   "source": [
    "# 获取网盘全部文件夹, 遍历出所有文件夹(用于移动文件)\n",
    "dirs = lzy.get_move_folders()\n",
    "if _dir := dirs.find_by_name('图片浏览'):\n",
    "    print(lzy.get_share_info(_dir.id, is_file=False))"
   ],
   "execution_count": 26,
   "outputs": [
    {
     "name": "stdout",
     "output_type": "stream",
     "text": [
      "ShareInfo(code=0, name='图片浏览', url='https://wwb.lanzout.com/b03d1pa1e', pwd='leo0', desc='')\n"
     ]
    }
   ]
  },
  {
   "cell_type": "code",
   "execution_count": 15,
   "outputs": [
    {
     "data": {
      "text/plain": "['鼠标键盘统计KMCounter.exe',\n '鲁大师.exe',\n '驱动管理IObit_Driver_Booster_9.2.0.178_Portable.7z',\n '阿里小白羊版Win v2.12.05.exe',\n '阿里云盘变本地硬盘64位1.1.58.exe',\n '迅雷不限速绿色版.zip',\n '轻量级录屏oCam_v520.exe',\n '蜂蜜浏览器_HONEYVIEW-SETUP-V5.35.exe',\n '腾讯软件管理.exe',\n '罗技驱动.rar',\n '空间扫描工具_spacesniffer_1_3_0_2.zip',\n '禁用win更新WUB_1.6_Single.exe',\n '画图_SAI 2.0.rar',\n '电子书格式转换NeatConverter_4.0.1_Portable.7z',\n '瑞士军刀uTools-2.4.3.exe',\n '游戏下载器_pcstory5.0.zip',\n '格式工厂_setup.exe',\n '格式工厂.7z',\n '星愿浏览器.exe',\n '文件管理器XYplorer_23.00.0100_Portable.7z',\n '文件分析WizTree_4.08_Portable.7z',\n '搞机助手_V4.8.3.zip',\n '搜狗输入法v9.6a精简优化版.exe',\n '搜狗精简版.exe',\n '思维导图_XMind ZEN 2020 64bit.rar',\n '思维导图_mindmaster.exe',\n '微软运行库MSVBCRT.AIO.2022.04.09.exe',\n '微软常用运行库合集a.exe',\n '微软常用运行库合集 64位_2017.03.11.exe',\n '小米助手_3.2.522.32_setup.exe',\n '天若OCR文字识别_ncnn.7z',\n '哔哩哔哩UWP Ver4.3.10_x64.zip',\n '右键管理MenuMgr_1.2_Single.exe',\n '分区助手.exe',\n '内存清理WMOSetup_4.1.6.118.exe',\n '关闭Win10自动更新.exe',\n '修改文件名.exe',\n '便携版Google_Chrome_100.0.4896.60_64bit_Portable.7z',\n '便携版Firefox_98.0.0_tete009_64bit_Portable.7z',\n '专业LOGO设计软件.zip',\n 'Xshell-7.0.0063.exe',\n 'Xftp-7.0.0063p.exe',\n 'winrar-x64-591scp.exe',\n 'ventoy-1.0.47-windows.zip',\n 'Typora_1.2.5.zip',\n 'TIM3.3.0.21970.exe',\n 'SoftDownloader.zip',\n 'Snipaste.zip',\n 'SanDisk文件保险箱V3.01_win.zip',\n 'RocketDock-v1.3.5.exe',\n 'RK_Keyboard_驱动_Setup_V1.0_0522.exe',\n 'Q-Dir_Installer_x64_多页文件管理.exe',\n 'PotPlayerSetup64_125.exe',\n 'PDF工具PDF_Shaper_Professional_12.1_Portable.7z',\n 'PandaOCR_2.72.zip',\n 'npp.7.5.4.Installer.x64.exe',\n 'MobaXterm_CHS.rar',\n 'Listary.exe',\n 'KMCounter.v3.7.zip',\n 'IDM_v6.39.8_Repack.exe',\n 'IDM 6.33.2.zip',\n 'GUI_achieveV1.1.exe',\n 'GitHub加速DevSidecar-1.7.2.exe',\n 'Firefox-latest.exe',\n 'Everything-1.4.1.1005.x64-Setup.exe',\n 'Everything 1.5a.7z',\n 'DropIt_v8.5.1_Setup.exe',\n 'DiskGenius Professional 5.1.2.766  Crack.zip',\n 'clover3.5.2谨慎.zip',\n 'CloudDriveSetup-X64-1.1.38.1.exe',\n 'ChromeSetup.exe',\n 'CHM文件制作.zip',\n 'CC助手_Setup-1.1.2-x64.exe',\n 'CCleaner.exe',\n 'BitDockSetup1.9.9.1320安装版.exe',\n '02_右键菜单编辑器.zip']"
     },
     "execution_count": 15,
     "metadata": {},
     "output_type": "execute_result"
    }
   ],
   "source": [
    "lis = lzy.get_file_list(5506472)\n",
    "lis.find_by_name('Waifu2x-Extension-GUI-v2.51.17-Setup_2.exe')\n",
    "[_.name for _ in lis]"
   ],
   "metadata": {
    "collapsed": false,
    "pycharm": {
     "name": "#%%\n"
    }
   }
  },
  {
   "cell_type": "code",
   "execution_count": 11,
   "outputs": [
    {
     "data": {
      "text/plain": "ShareInfo(code=0, name='存储', url='https://wwb.lanzout.com/b03d1p0le', pwd='123456', desc='')"
     },
     "execution_count": 11,
     "metadata": {},
     "output_type": "execute_result"
    }
   ],
   "source": [
    "lzy.get_share_info(5506394, is_file=False)"
   ],
   "metadata": {
    "collapsed": false,
    "pycharm": {
     "name": "#%%\n"
    }
   }
  },
  {
   "cell_type": "markdown",
   "metadata": {
    "pycharm": {
     "name": "#%% md\n"
    }
   },
   "source": [
    "# 获取子文件夹列表\n",
    "lzy.get_dir_list(2902752)"
   ]
  },
  {
   "cell_type": "markdown",
   "metadata": {
    "pycharm": {
     "name": "#%% md\n"
    }
   },
   "source": [
    "# 获取某文件夹下的文件列表\n",
    "lzy.get_file_list(3861676)"
   ]
  },
  {
   "cell_type": "markdown",
   "metadata": {
    "pycharm": {
     "name": "#%% md\n"
    }
   },
   "source": [
    "# 获取文件(夹)分享信息\n",
    "lzy.get_share_info(3861676, is_file=False)"
   ]
  },
  {
   "cell_type": "code",
   "execution_count": 50,
   "metadata": {
    "pycharm": {
     "name": "#%%\n"
    }
   },
   "outputs": [
    {
     "name": "stdout",
     "output_type": "stream",
     "text": [
      "# [01_工具](F:\\01_软件,环境\\01_工具)\n",
      "\n",
      "\n",
      "100.00%\t[########################################] 0.5/0.5MB | 02_右键菜单编辑器.zip \n",
      "23.39%\t[#########===============================] 19.5/83.2MB | BitDockSetup1.9.9.1320安装版.exe "
     ]
    },
    {
     "ename": "KeyboardInterrupt",
     "evalue": "",
     "output_type": "error",
     "traceback": [
      "\u001B[1;31m---------------------------------------------------------------------------\u001B[0m",
      "\u001B[1;31mKeyboardInterrupt\u001B[0m                         Traceback (most recent call last)",
      "Input \u001B[1;32mIn [50]\u001B[0m, in \u001B[0;36m<cell line: 98>\u001B[1;34m()\u001B[0m\n\u001B[0;32m     91\u001B[0m         scanDir(_dir_path, parent_dir_id\u001B[38;5;241m=\u001B[39m\u001B[38;5;241m1\u001B[39m)\n\u001B[0;32m     94\u001B[0m \u001B[38;5;66;03m# if 1==1:\u001B[39;00m\n\u001B[0;32m     95\u001B[0m \u001B[38;5;66;03m#     print('上传完成')\u001B[39;00m\n\u001B[0;32m     96\u001B[0m \u001B[38;5;66;03m#     print(lzy.get_file_list(5479523))\u001B[39;00m\n\u001B[1;32m---> 98\u001B[0m \u001B[43mscanDir\u001B[49m\u001B[43m(\u001B[49m\u001B[38;5;124;43mr\u001B[39;49m\u001B[38;5;124;43m'\u001B[39;49m\u001B[38;5;124;43mF:\u001B[39;49m\u001B[38;5;124;43m\\\u001B[39;49m\u001B[38;5;124;43m01_软件,环境\u001B[39;49m\u001B[38;5;124;43m\\\u001B[39;49m\u001B[38;5;124;43m01_工具\u001B[39;49m\u001B[38;5;124;43m'\u001B[39;49m\u001B[43m)\u001B[49m\n",
      "Input \u001B[1;32mIn [50]\u001B[0m, in \u001B[0;36mscanDir\u001B[1;34m(dir_path, parent_dir_id)\u001B[0m\n\u001B[0;32m     72\u001B[0m \u001B[38;5;66;03m# 文件, 直接上传\u001B[39;00m\n\u001B[0;32m     73\u001B[0m \u001B[38;5;28;01mif\u001B[39;00m os\u001B[38;5;241m.\u001B[39mpath\u001B[38;5;241m.\u001B[39misfile(file_path):\n\u001B[1;32m---> 74\u001B[0m     \u001B[43mlzy\u001B[49m\u001B[38;5;241;43m.\u001B[39;49m\u001B[43mupload_file\u001B[49m\u001B[43m(\u001B[49m\n\u001B[0;32m     75\u001B[0m \u001B[43m        \u001B[49m\u001B[43mfile_path\u001B[49m\u001B[43m,\u001B[49m\n\u001B[0;32m     76\u001B[0m \u001B[43m        \u001B[49m\u001B[43mfolder_id\u001B[49m\u001B[38;5;241;43m=\u001B[39;49m\u001B[43mnew_dir_id\u001B[49m\u001B[43m,\u001B[49m\n\u001B[0;32m     77\u001B[0m \u001B[43m        \u001B[49m\u001B[43mcallback\u001B[49m\u001B[38;5;241;43m=\u001B[39;49m\u001B[43mshow_progress\u001B[49m\u001B[43m,\u001B[49m\n\u001B[0;32m     78\u001B[0m \u001B[43m        \u001B[49m\u001B[43muploaded_handler\u001B[49m\u001B[38;5;241;43m=\u001B[39;49m\u001B[43mhandler\u001B[49m\n\u001B[0;32m     79\u001B[0m \u001B[43m    \u001B[49m\u001B[43m)\u001B[49m\n\u001B[0;32m     80\u001B[0m     fileNameUrlDict[_file] \u001B[38;5;241m=\u001B[39m file_path\n\u001B[0;32m     81\u001B[0m \u001B[38;5;66;03m# 文件夹, 入队, 文件处理完成后统一处理\u001B[39;00m\n",
      "File \u001B[1;32mD:\\Anaconda3\\envs\\py3\\lib\\site-packages\\lanzou\\api\\core.py:913\u001B[0m, in \u001B[0;36mLanZouCloud.upload_file\u001B[1;34m(self, file_path, folder_id, callback, uploaded_handler)\u001B[0m\n\u001B[0;32m    911\u001B[0m \u001B[38;5;66;03m# 单个文件不超过 max_size 直接上传\u001B[39;00m\n\u001B[0;32m    912\u001B[0m \u001B[38;5;28;01mif\u001B[39;00m os\u001B[38;5;241m.\u001B[39mpath\u001B[38;5;241m.\u001B[39mgetsize(file_path) \u001B[38;5;241m<\u001B[39m\u001B[38;5;241m=\u001B[39m \u001B[38;5;28mself\u001B[39m\u001B[38;5;241m.\u001B[39m_max_size \u001B[38;5;241m*\u001B[39m \u001B[38;5;241m1048576\u001B[39m:\n\u001B[1;32m--> 913\u001B[0m     \u001B[38;5;28;01mreturn\u001B[39;00m \u001B[38;5;28;43mself\u001B[39;49m\u001B[38;5;241;43m.\u001B[39;49m\u001B[43m_upload_small_file\u001B[49m\u001B[43m(\u001B[49m\u001B[43mfile_path\u001B[49m\u001B[43m,\u001B[49m\u001B[43m \u001B[49m\u001B[43mfolder_id\u001B[49m\u001B[43m,\u001B[49m\u001B[43m \u001B[49m\u001B[43mcallback\u001B[49m\u001B[38;5;241;43m=\u001B[39;49m\u001B[43mcallback\u001B[49m\u001B[43m,\u001B[49m\u001B[43m \u001B[49m\u001B[43muploaded_handler\u001B[49m\u001B[38;5;241;43m=\u001B[39;49m\u001B[43muploaded_handler\u001B[49m\u001B[43m)\u001B[49m\n\u001B[0;32m    915\u001B[0m \u001B[38;5;66;03m# 上传超过 max_size 的文件\u001B[39;00m\n\u001B[0;32m    916\u001B[0m \u001B[38;5;28;01mif\u001B[39;00m \u001B[38;5;28mself\u001B[39m\u001B[38;5;241m.\u001B[39m_limit_mode:\n",
      "File \u001B[1;32mD:\\Anaconda3\\envs\\py3\\lib\\site-packages\\lanzou\\api\\core.py:809\u001B[0m, in \u001B[0;36mLanZouCloud._upload_small_file\u001B[1;34m(self, file_path, folder_id, callback, uploaded_handler)\u001B[0m\n\u001B[0;32m    806\u001B[0m             \u001B[38;5;28mself\u001B[39m\u001B[38;5;241m.\u001B[39m_upload_finished_flag \u001B[38;5;241m=\u001B[39m \u001B[38;5;28;01mTrue\u001B[39;00m\n\u001B[0;32m    808\u001B[0m monitor \u001B[38;5;241m=\u001B[39m MultipartEncoderMonitor(post_data, _call_back)\n\u001B[1;32m--> 809\u001B[0m result \u001B[38;5;241m=\u001B[39m \u001B[38;5;28;43mself\u001B[39;49m\u001B[38;5;241;43m.\u001B[39;49m\u001B[43m_post\u001B[49m\u001B[43m(\u001B[49m\u001B[38;5;124;43m'\u001B[39;49m\u001B[38;5;124;43mhttps://pc.woozooo.com/fileup.php\u001B[39;49m\u001B[38;5;124;43m'\u001B[39;49m\u001B[43m,\u001B[49m\u001B[43m \u001B[49m\u001B[43mdata\u001B[49m\u001B[38;5;241;43m=\u001B[39;49m\u001B[43mmonitor\u001B[49m\u001B[43m,\u001B[49m\u001B[43m \u001B[49m\u001B[43mheaders\u001B[49m\u001B[38;5;241;43m=\u001B[39;49m\u001B[43mtmp_header\u001B[49m\u001B[43m,\u001B[49m\u001B[43m \u001B[49m\u001B[43mtimeout\u001B[49m\u001B[38;5;241;43m=\u001B[39;49m\u001B[38;5;241;43m3600\u001B[39;49m\u001B[43m)\u001B[49m\n\u001B[0;32m    810\u001B[0m \u001B[38;5;28;01mif\u001B[39;00m \u001B[38;5;129;01mnot\u001B[39;00m result:  \u001B[38;5;66;03m# 网络异常\u001B[39;00m\n\u001B[0;32m    811\u001B[0m     \u001B[38;5;28;01mreturn\u001B[39;00m LanZouCloud\u001B[38;5;241m.\u001B[39mNETWORK_ERROR\n",
      "File \u001B[1;32mD:\\Anaconda3\\envs\\py3\\lib\\site-packages\\lanzou\\api\\core.py:76\u001B[0m, in \u001B[0;36mLanZouCloud._post\u001B[1;34m(self, url, data, **kwargs)\u001B[0m\n\u001B[0;32m     74\u001B[0m     kwargs\u001B[38;5;241m.\u001B[39msetdefault(\u001B[38;5;124m'\u001B[39m\u001B[38;5;124mtimeout\u001B[39m\u001B[38;5;124m'\u001B[39m, \u001B[38;5;28mself\u001B[39m\u001B[38;5;241m.\u001B[39m_timeout)\n\u001B[0;32m     75\u001B[0m     kwargs\u001B[38;5;241m.\u001B[39msetdefault(\u001B[38;5;124m'\u001B[39m\u001B[38;5;124mheaders\u001B[39m\u001B[38;5;124m'\u001B[39m, \u001B[38;5;28mself\u001B[39m\u001B[38;5;241m.\u001B[39m_headers)\n\u001B[1;32m---> 76\u001B[0m     \u001B[38;5;28;01mreturn\u001B[39;00m \u001B[38;5;28mself\u001B[39m\u001B[38;5;241m.\u001B[39m_session\u001B[38;5;241m.\u001B[39mpost(possible_url, data, verify\u001B[38;5;241m=\u001B[39m\u001B[38;5;28;01mFalse\u001B[39;00m, \u001B[38;5;241m*\u001B[39m\u001B[38;5;241m*\u001B[39mkwargs)\n\u001B[0;32m     77\u001B[0m \u001B[38;5;28;01mexcept\u001B[39;00m (\u001B[38;5;167;01mConnectionError\u001B[39;00m, requests\u001B[38;5;241m.\u001B[39mRequestException):\n\u001B[0;32m     78\u001B[0m     logger\u001B[38;5;241m.\u001B[39mdebug(\u001B[38;5;124mf\u001B[39m\u001B[38;5;124m\"\u001B[39m\u001B[38;5;124mPost to \u001B[39m\u001B[38;5;132;01m{\u001B[39;00mpossible_url\u001B[38;5;132;01m}\u001B[39;00m\u001B[38;5;124m (\u001B[39m\u001B[38;5;132;01m{\u001B[39;00mdata\u001B[38;5;132;01m}\u001B[39;00m\u001B[38;5;124m) failed, try another domain\u001B[39m\u001B[38;5;124m\"\u001B[39m)\n",
      "File \u001B[1;32mD:\\Anaconda3\\envs\\py3\\lib\\site-packages\\requests\\sessions.py:577\u001B[0m, in \u001B[0;36mSession.post\u001B[1;34m(self, url, data, json, **kwargs)\u001B[0m\n\u001B[0;32m    566\u001B[0m \u001B[38;5;28;01mdef\u001B[39;00m \u001B[38;5;21mpost\u001B[39m(\u001B[38;5;28mself\u001B[39m, url, data\u001B[38;5;241m=\u001B[39m\u001B[38;5;28;01mNone\u001B[39;00m, json\u001B[38;5;241m=\u001B[39m\u001B[38;5;28;01mNone\u001B[39;00m, \u001B[38;5;241m*\u001B[39m\u001B[38;5;241m*\u001B[39mkwargs):\n\u001B[0;32m    567\u001B[0m     \u001B[38;5;124mr\u001B[39m\u001B[38;5;124;03m\"\"\"Sends a POST request. Returns :class:`Response` object.\u001B[39;00m\n\u001B[0;32m    568\u001B[0m \n\u001B[0;32m    569\u001B[0m \u001B[38;5;124;03m    :param url: URL for the new :class:`Request` object.\u001B[39;00m\n\u001B[1;32m   (...)\u001B[0m\n\u001B[0;32m    574\u001B[0m \u001B[38;5;124;03m    :rtype: requests.Response\u001B[39;00m\n\u001B[0;32m    575\u001B[0m \u001B[38;5;124;03m    \"\"\"\u001B[39;00m\n\u001B[1;32m--> 577\u001B[0m     \u001B[38;5;28;01mreturn\u001B[39;00m \u001B[38;5;28mself\u001B[39m\u001B[38;5;241m.\u001B[39mrequest(\u001B[38;5;124m'\u001B[39m\u001B[38;5;124mPOST\u001B[39m\u001B[38;5;124m'\u001B[39m, url, data\u001B[38;5;241m=\u001B[39mdata, json\u001B[38;5;241m=\u001B[39mjson, \u001B[38;5;241m*\u001B[39m\u001B[38;5;241m*\u001B[39mkwargs)\n",
      "File \u001B[1;32mD:\\Anaconda3\\envs\\py3\\lib\\site-packages\\requests\\sessions.py:529\u001B[0m, in \u001B[0;36mSession.request\u001B[1;34m(self, method, url, params, data, headers, cookies, files, auth, timeout, allow_redirects, proxies, hooks, stream, verify, cert, json)\u001B[0m\n\u001B[0;32m    524\u001B[0m send_kwargs \u001B[38;5;241m=\u001B[39m {\n\u001B[0;32m    525\u001B[0m     \u001B[38;5;124m'\u001B[39m\u001B[38;5;124mtimeout\u001B[39m\u001B[38;5;124m'\u001B[39m: timeout,\n\u001B[0;32m    526\u001B[0m     \u001B[38;5;124m'\u001B[39m\u001B[38;5;124mallow_redirects\u001B[39m\u001B[38;5;124m'\u001B[39m: allow_redirects,\n\u001B[0;32m    527\u001B[0m }\n\u001B[0;32m    528\u001B[0m send_kwargs\u001B[38;5;241m.\u001B[39mupdate(settings)\n\u001B[1;32m--> 529\u001B[0m resp \u001B[38;5;241m=\u001B[39m \u001B[38;5;28mself\u001B[39m\u001B[38;5;241m.\u001B[39msend(prep, \u001B[38;5;241m*\u001B[39m\u001B[38;5;241m*\u001B[39msend_kwargs)\n\u001B[0;32m    531\u001B[0m \u001B[38;5;28;01mreturn\u001B[39;00m resp\n",
      "File \u001B[1;32mD:\\Anaconda3\\envs\\py3\\lib\\site-packages\\requests\\sessions.py:645\u001B[0m, in \u001B[0;36mSession.send\u001B[1;34m(self, request, **kwargs)\u001B[0m\n\u001B[0;32m    642\u001B[0m start \u001B[38;5;241m=\u001B[39m preferred_clock()\n\u001B[0;32m    644\u001B[0m \u001B[38;5;66;03m# Send the request\u001B[39;00m\n\u001B[1;32m--> 645\u001B[0m r \u001B[38;5;241m=\u001B[39m adapter\u001B[38;5;241m.\u001B[39msend(request, \u001B[38;5;241m*\u001B[39m\u001B[38;5;241m*\u001B[39mkwargs)\n\u001B[0;32m    647\u001B[0m \u001B[38;5;66;03m# Total elapsed time of the request (approximately)\u001B[39;00m\n\u001B[0;32m    648\u001B[0m elapsed \u001B[38;5;241m=\u001B[39m preferred_clock() \u001B[38;5;241m-\u001B[39m start\n",
      "File \u001B[1;32mD:\\Anaconda3\\envs\\py3\\lib\\site-packages\\requests\\adapters.py:440\u001B[0m, in \u001B[0;36mHTTPAdapter.send\u001B[1;34m(self, request, stream, timeout, verify, cert, proxies)\u001B[0m\n\u001B[0;32m    438\u001B[0m \u001B[38;5;28;01mtry\u001B[39;00m:\n\u001B[0;32m    439\u001B[0m     \u001B[38;5;28;01mif\u001B[39;00m \u001B[38;5;129;01mnot\u001B[39;00m chunked:\n\u001B[1;32m--> 440\u001B[0m         resp \u001B[38;5;241m=\u001B[39m \u001B[43mconn\u001B[49m\u001B[38;5;241;43m.\u001B[39;49m\u001B[43murlopen\u001B[49m\u001B[43m(\u001B[49m\n\u001B[0;32m    441\u001B[0m \u001B[43m            \u001B[49m\u001B[43mmethod\u001B[49m\u001B[38;5;241;43m=\u001B[39;49m\u001B[43mrequest\u001B[49m\u001B[38;5;241;43m.\u001B[39;49m\u001B[43mmethod\u001B[49m\u001B[43m,\u001B[49m\n\u001B[0;32m    442\u001B[0m \u001B[43m            \u001B[49m\u001B[43murl\u001B[49m\u001B[38;5;241;43m=\u001B[39;49m\u001B[43murl\u001B[49m\u001B[43m,\u001B[49m\n\u001B[0;32m    443\u001B[0m \u001B[43m            \u001B[49m\u001B[43mbody\u001B[49m\u001B[38;5;241;43m=\u001B[39;49m\u001B[43mrequest\u001B[49m\u001B[38;5;241;43m.\u001B[39;49m\u001B[43mbody\u001B[49m\u001B[43m,\u001B[49m\n\u001B[0;32m    444\u001B[0m \u001B[43m            \u001B[49m\u001B[43mheaders\u001B[49m\u001B[38;5;241;43m=\u001B[39;49m\u001B[43mrequest\u001B[49m\u001B[38;5;241;43m.\u001B[39;49m\u001B[43mheaders\u001B[49m\u001B[43m,\u001B[49m\n\u001B[0;32m    445\u001B[0m \u001B[43m            \u001B[49m\u001B[43mredirect\u001B[49m\u001B[38;5;241;43m=\u001B[39;49m\u001B[38;5;28;43;01mFalse\u001B[39;49;00m\u001B[43m,\u001B[49m\n\u001B[0;32m    446\u001B[0m \u001B[43m            \u001B[49m\u001B[43massert_same_host\u001B[49m\u001B[38;5;241;43m=\u001B[39;49m\u001B[38;5;28;43;01mFalse\u001B[39;49;00m\u001B[43m,\u001B[49m\n\u001B[0;32m    447\u001B[0m \u001B[43m            \u001B[49m\u001B[43mpreload_content\u001B[49m\u001B[38;5;241;43m=\u001B[39;49m\u001B[38;5;28;43;01mFalse\u001B[39;49;00m\u001B[43m,\u001B[49m\n\u001B[0;32m    448\u001B[0m \u001B[43m            \u001B[49m\u001B[43mdecode_content\u001B[49m\u001B[38;5;241;43m=\u001B[39;49m\u001B[38;5;28;43;01mFalse\u001B[39;49;00m\u001B[43m,\u001B[49m\n\u001B[0;32m    449\u001B[0m \u001B[43m            \u001B[49m\u001B[43mretries\u001B[49m\u001B[38;5;241;43m=\u001B[39;49m\u001B[38;5;28;43mself\u001B[39;49m\u001B[38;5;241;43m.\u001B[39;49m\u001B[43mmax_retries\u001B[49m\u001B[43m,\u001B[49m\n\u001B[0;32m    450\u001B[0m \u001B[43m            \u001B[49m\u001B[43mtimeout\u001B[49m\u001B[38;5;241;43m=\u001B[39;49m\u001B[43mtimeout\u001B[49m\n\u001B[0;32m    451\u001B[0m \u001B[43m        \u001B[49m\u001B[43m)\u001B[49m\n\u001B[0;32m    453\u001B[0m     \u001B[38;5;66;03m# Send the request.\u001B[39;00m\n\u001B[0;32m    454\u001B[0m     \u001B[38;5;28;01melse\u001B[39;00m:\n\u001B[0;32m    455\u001B[0m         \u001B[38;5;28;01mif\u001B[39;00m \u001B[38;5;28mhasattr\u001B[39m(conn, \u001B[38;5;124m'\u001B[39m\u001B[38;5;124mproxy_pool\u001B[39m\u001B[38;5;124m'\u001B[39m):\n",
      "File \u001B[1;32mD:\\Anaconda3\\envs\\py3\\lib\\site-packages\\urllib3\\connectionpool.py:703\u001B[0m, in \u001B[0;36mHTTPConnectionPool.urlopen\u001B[1;34m(self, method, url, body, headers, retries, redirect, assert_same_host, timeout, pool_timeout, release_conn, chunked, body_pos, **response_kw)\u001B[0m\n\u001B[0;32m    700\u001B[0m     \u001B[38;5;28mself\u001B[39m\u001B[38;5;241m.\u001B[39m_prepare_proxy(conn)\n\u001B[0;32m    702\u001B[0m \u001B[38;5;66;03m# Make the request on the httplib connection object.\u001B[39;00m\n\u001B[1;32m--> 703\u001B[0m httplib_response \u001B[38;5;241m=\u001B[39m \u001B[38;5;28;43mself\u001B[39;49m\u001B[38;5;241;43m.\u001B[39;49m\u001B[43m_make_request\u001B[49m\u001B[43m(\u001B[49m\n\u001B[0;32m    704\u001B[0m \u001B[43m    \u001B[49m\u001B[43mconn\u001B[49m\u001B[43m,\u001B[49m\n\u001B[0;32m    705\u001B[0m \u001B[43m    \u001B[49m\u001B[43mmethod\u001B[49m\u001B[43m,\u001B[49m\n\u001B[0;32m    706\u001B[0m \u001B[43m    \u001B[49m\u001B[43murl\u001B[49m\u001B[43m,\u001B[49m\n\u001B[0;32m    707\u001B[0m \u001B[43m    \u001B[49m\u001B[43mtimeout\u001B[49m\u001B[38;5;241;43m=\u001B[39;49m\u001B[43mtimeout_obj\u001B[49m\u001B[43m,\u001B[49m\n\u001B[0;32m    708\u001B[0m \u001B[43m    \u001B[49m\u001B[43mbody\u001B[49m\u001B[38;5;241;43m=\u001B[39;49m\u001B[43mbody\u001B[49m\u001B[43m,\u001B[49m\n\u001B[0;32m    709\u001B[0m \u001B[43m    \u001B[49m\u001B[43mheaders\u001B[49m\u001B[38;5;241;43m=\u001B[39;49m\u001B[43mheaders\u001B[49m\u001B[43m,\u001B[49m\n\u001B[0;32m    710\u001B[0m \u001B[43m    \u001B[49m\u001B[43mchunked\u001B[49m\u001B[38;5;241;43m=\u001B[39;49m\u001B[43mchunked\u001B[49m\u001B[43m,\u001B[49m\n\u001B[0;32m    711\u001B[0m \u001B[43m\u001B[49m\u001B[43m)\u001B[49m\n\u001B[0;32m    713\u001B[0m \u001B[38;5;66;03m# If we're going to release the connection in ``finally:``, then\u001B[39;00m\n\u001B[0;32m    714\u001B[0m \u001B[38;5;66;03m# the response doesn't need to know about the connection. Otherwise\u001B[39;00m\n\u001B[0;32m    715\u001B[0m \u001B[38;5;66;03m# it will also try to release it and we'll have a double-release\u001B[39;00m\n\u001B[0;32m    716\u001B[0m \u001B[38;5;66;03m# mess.\u001B[39;00m\n\u001B[0;32m    717\u001B[0m response_conn \u001B[38;5;241m=\u001B[39m conn \u001B[38;5;28;01mif\u001B[39;00m \u001B[38;5;129;01mnot\u001B[39;00m release_conn \u001B[38;5;28;01melse\u001B[39;00m \u001B[38;5;28;01mNone\u001B[39;00m\n",
      "File \u001B[1;32mD:\\Anaconda3\\envs\\py3\\lib\\site-packages\\urllib3\\connectionpool.py:398\u001B[0m, in \u001B[0;36mHTTPConnectionPool._make_request\u001B[1;34m(self, conn, method, url, timeout, chunked, **httplib_request_kw)\u001B[0m\n\u001B[0;32m    396\u001B[0m         conn\u001B[38;5;241m.\u001B[39mrequest_chunked(method, url, \u001B[38;5;241m*\u001B[39m\u001B[38;5;241m*\u001B[39mhttplib_request_kw)\n\u001B[0;32m    397\u001B[0m     \u001B[38;5;28;01melse\u001B[39;00m:\n\u001B[1;32m--> 398\u001B[0m         conn\u001B[38;5;241m.\u001B[39mrequest(method, url, \u001B[38;5;241m*\u001B[39m\u001B[38;5;241m*\u001B[39mhttplib_request_kw)\n\u001B[0;32m    400\u001B[0m \u001B[38;5;66;03m# We are swallowing BrokenPipeError (errno.EPIPE) since the server is\u001B[39;00m\n\u001B[0;32m    401\u001B[0m \u001B[38;5;66;03m# legitimately able to close the connection after sending a valid response.\u001B[39;00m\n\u001B[0;32m    402\u001B[0m \u001B[38;5;66;03m# With this behaviour, the received response is still readable.\u001B[39;00m\n\u001B[0;32m    403\u001B[0m \u001B[38;5;28;01mexcept\u001B[39;00m \u001B[38;5;167;01mBrokenPipeError\u001B[39;00m:\n\u001B[0;32m    404\u001B[0m     \u001B[38;5;66;03m# Python 3\u001B[39;00m\n",
      "File \u001B[1;32mD:\\Anaconda3\\envs\\py3\\lib\\site-packages\\urllib3\\connection.py:239\u001B[0m, in \u001B[0;36mHTTPConnection.request\u001B[1;34m(self, method, url, body, headers)\u001B[0m\n\u001B[0;32m    237\u001B[0m \u001B[38;5;28;01mif\u001B[39;00m \u001B[38;5;124m\"\u001B[39m\u001B[38;5;124muser-agent\u001B[39m\u001B[38;5;124m\"\u001B[39m \u001B[38;5;129;01mnot\u001B[39;00m \u001B[38;5;129;01min\u001B[39;00m (six\u001B[38;5;241m.\u001B[39mensure_str(k\u001B[38;5;241m.\u001B[39mlower()) \u001B[38;5;28;01mfor\u001B[39;00m k \u001B[38;5;129;01min\u001B[39;00m headers):\n\u001B[0;32m    238\u001B[0m     headers[\u001B[38;5;124m\"\u001B[39m\u001B[38;5;124mUser-Agent\u001B[39m\u001B[38;5;124m\"\u001B[39m] \u001B[38;5;241m=\u001B[39m _get_default_user_agent()\n\u001B[1;32m--> 239\u001B[0m \u001B[38;5;28;43msuper\u001B[39;49m\u001B[43m(\u001B[49m\u001B[43mHTTPConnection\u001B[49m\u001B[43m,\u001B[49m\u001B[43m \u001B[49m\u001B[38;5;28;43mself\u001B[39;49m\u001B[43m)\u001B[49m\u001B[38;5;241;43m.\u001B[39;49m\u001B[43mrequest\u001B[49m\u001B[43m(\u001B[49m\u001B[43mmethod\u001B[49m\u001B[43m,\u001B[49m\u001B[43m \u001B[49m\u001B[43murl\u001B[49m\u001B[43m,\u001B[49m\u001B[43m \u001B[49m\u001B[43mbody\u001B[49m\u001B[38;5;241;43m=\u001B[39;49m\u001B[43mbody\u001B[49m\u001B[43m,\u001B[49m\u001B[43m \u001B[49m\u001B[43mheaders\u001B[49m\u001B[38;5;241;43m=\u001B[39;49m\u001B[43mheaders\u001B[49m\u001B[43m)\u001B[49m\n",
      "File \u001B[1;32mD:\\Anaconda3\\envs\\py3\\lib\\http\\client.py:1253\u001B[0m, in \u001B[0;36mHTTPConnection.request\u001B[1;34m(self, method, url, body, headers, encode_chunked)\u001B[0m\n\u001B[0;32m   1250\u001B[0m \u001B[38;5;28;01mdef\u001B[39;00m \u001B[38;5;21mrequest\u001B[39m(\u001B[38;5;28mself\u001B[39m, method, url, body\u001B[38;5;241m=\u001B[39m\u001B[38;5;28;01mNone\u001B[39;00m, headers\u001B[38;5;241m=\u001B[39m{}, \u001B[38;5;241m*\u001B[39m,\n\u001B[0;32m   1251\u001B[0m             encode_chunked\u001B[38;5;241m=\u001B[39m\u001B[38;5;28;01mFalse\u001B[39;00m):\n\u001B[0;32m   1252\u001B[0m     \u001B[38;5;124;03m\"\"\"Send a complete request to the server.\"\"\"\u001B[39;00m\n\u001B[1;32m-> 1253\u001B[0m     \u001B[38;5;28;43mself\u001B[39;49m\u001B[38;5;241;43m.\u001B[39;49m\u001B[43m_send_request\u001B[49m\u001B[43m(\u001B[49m\u001B[43mmethod\u001B[49m\u001B[43m,\u001B[49m\u001B[43m \u001B[49m\u001B[43murl\u001B[49m\u001B[43m,\u001B[49m\u001B[43m \u001B[49m\u001B[43mbody\u001B[49m\u001B[43m,\u001B[49m\u001B[43m \u001B[49m\u001B[43mheaders\u001B[49m\u001B[43m,\u001B[49m\u001B[43m \u001B[49m\u001B[43mencode_chunked\u001B[49m\u001B[43m)\u001B[49m\n",
      "File \u001B[1;32mD:\\Anaconda3\\envs\\py3\\lib\\http\\client.py:1299\u001B[0m, in \u001B[0;36mHTTPConnection._send_request\u001B[1;34m(self, method, url, body, headers, encode_chunked)\u001B[0m\n\u001B[0;32m   1295\u001B[0m \u001B[38;5;28;01mif\u001B[39;00m \u001B[38;5;28misinstance\u001B[39m(body, \u001B[38;5;28mstr\u001B[39m):\n\u001B[0;32m   1296\u001B[0m     \u001B[38;5;66;03m# RFC 2616 Section 3.7.1 says that text default has a\u001B[39;00m\n\u001B[0;32m   1297\u001B[0m     \u001B[38;5;66;03m# default charset of iso-8859-1.\u001B[39;00m\n\u001B[0;32m   1298\u001B[0m     body \u001B[38;5;241m=\u001B[39m _encode(body, \u001B[38;5;124m'\u001B[39m\u001B[38;5;124mbody\u001B[39m\u001B[38;5;124m'\u001B[39m)\n\u001B[1;32m-> 1299\u001B[0m \u001B[38;5;28;43mself\u001B[39;49m\u001B[38;5;241;43m.\u001B[39;49m\u001B[43mendheaders\u001B[49m\u001B[43m(\u001B[49m\u001B[43mbody\u001B[49m\u001B[43m,\u001B[49m\u001B[43m \u001B[49m\u001B[43mencode_chunked\u001B[49m\u001B[38;5;241;43m=\u001B[39;49m\u001B[43mencode_chunked\u001B[49m\u001B[43m)\u001B[49m\n",
      "File \u001B[1;32mD:\\Anaconda3\\envs\\py3\\lib\\http\\client.py:1248\u001B[0m, in \u001B[0;36mHTTPConnection.endheaders\u001B[1;34m(self, message_body, encode_chunked)\u001B[0m\n\u001B[0;32m   1246\u001B[0m \u001B[38;5;28;01melse\u001B[39;00m:\n\u001B[0;32m   1247\u001B[0m     \u001B[38;5;28;01mraise\u001B[39;00m CannotSendHeader()\n\u001B[1;32m-> 1248\u001B[0m \u001B[38;5;28;43mself\u001B[39;49m\u001B[38;5;241;43m.\u001B[39;49m\u001B[43m_send_output\u001B[49m\u001B[43m(\u001B[49m\u001B[43mmessage_body\u001B[49m\u001B[43m,\u001B[49m\u001B[43m \u001B[49m\u001B[43mencode_chunked\u001B[49m\u001B[38;5;241;43m=\u001B[39;49m\u001B[43mencode_chunked\u001B[49m\u001B[43m)\u001B[49m\n",
      "File \u001B[1;32mD:\\Anaconda3\\envs\\py3\\lib\\http\\client.py:1047\u001B[0m, in \u001B[0;36mHTTPConnection._send_output\u001B[1;34m(self, message_body, encode_chunked)\u001B[0m\n\u001B[0;32m   1043\u001B[0m     \u001B[38;5;28;01mif\u001B[39;00m encode_chunked \u001B[38;5;129;01mand\u001B[39;00m \u001B[38;5;28mself\u001B[39m\u001B[38;5;241m.\u001B[39m_http_vsn \u001B[38;5;241m==\u001B[39m \u001B[38;5;241m11\u001B[39m:\n\u001B[0;32m   1044\u001B[0m         \u001B[38;5;66;03m# chunked encoding\u001B[39;00m\n\u001B[0;32m   1045\u001B[0m         chunk \u001B[38;5;241m=\u001B[39m \u001B[38;5;124mf\u001B[39m\u001B[38;5;124m'\u001B[39m\u001B[38;5;132;01m{\u001B[39;00m\u001B[38;5;28mlen\u001B[39m(chunk)\u001B[38;5;132;01m:\u001B[39;00m\u001B[38;5;124mX\u001B[39m\u001B[38;5;132;01m}\u001B[39;00m\u001B[38;5;130;01m\\r\u001B[39;00m\u001B[38;5;130;01m\\n\u001B[39;00m\u001B[38;5;124m'\u001B[39m\u001B[38;5;241m.\u001B[39mencode(\u001B[38;5;124m'\u001B[39m\u001B[38;5;124mascii\u001B[39m\u001B[38;5;124m'\u001B[39m) \u001B[38;5;241m+\u001B[39m chunk \\\n\u001B[0;32m   1046\u001B[0m             \u001B[38;5;241m+\u001B[39m \u001B[38;5;124mb\u001B[39m\u001B[38;5;124m'\u001B[39m\u001B[38;5;130;01m\\r\u001B[39;00m\u001B[38;5;130;01m\\n\u001B[39;00m\u001B[38;5;124m'\u001B[39m\n\u001B[1;32m-> 1047\u001B[0m     \u001B[38;5;28;43mself\u001B[39;49m\u001B[38;5;241;43m.\u001B[39;49m\u001B[43msend\u001B[49m\u001B[43m(\u001B[49m\u001B[43mchunk\u001B[49m\u001B[43m)\u001B[49m\n\u001B[0;32m   1049\u001B[0m \u001B[38;5;28;01mif\u001B[39;00m encode_chunked \u001B[38;5;129;01mand\u001B[39;00m \u001B[38;5;28mself\u001B[39m\u001B[38;5;241m.\u001B[39m_http_vsn \u001B[38;5;241m==\u001B[39m \u001B[38;5;241m11\u001B[39m:\n\u001B[0;32m   1050\u001B[0m     \u001B[38;5;66;03m# end chunked transfer\u001B[39;00m\n\u001B[0;32m   1051\u001B[0m     \u001B[38;5;28mself\u001B[39m\u001B[38;5;241m.\u001B[39msend(\u001B[38;5;124mb\u001B[39m\u001B[38;5;124m'\u001B[39m\u001B[38;5;124m0\u001B[39m\u001B[38;5;130;01m\\r\u001B[39;00m\u001B[38;5;130;01m\\n\u001B[39;00m\u001B[38;5;130;01m\\r\u001B[39;00m\u001B[38;5;130;01m\\n\u001B[39;00m\u001B[38;5;124m'\u001B[39m)\n",
      "File \u001B[1;32mD:\\Anaconda3\\envs\\py3\\lib\\http\\client.py:969\u001B[0m, in \u001B[0;36mHTTPConnection.send\u001B[1;34m(self, data)\u001B[0m\n\u001B[0;32m    967\u001B[0m     \u001B[38;5;28;01mreturn\u001B[39;00m\n\u001B[0;32m    968\u001B[0m \u001B[38;5;28;01mtry\u001B[39;00m:\n\u001B[1;32m--> 969\u001B[0m     \u001B[38;5;28;43mself\u001B[39;49m\u001B[38;5;241;43m.\u001B[39;49m\u001B[43msock\u001B[49m\u001B[38;5;241;43m.\u001B[39;49m\u001B[43msendall\u001B[49m\u001B[43m(\u001B[49m\u001B[43mdata\u001B[49m\u001B[43m)\u001B[49m\n\u001B[0;32m    970\u001B[0m \u001B[38;5;28;01mexcept\u001B[39;00m \u001B[38;5;167;01mTypeError\u001B[39;00m:\n\u001B[0;32m    971\u001B[0m     \u001B[38;5;28;01mif\u001B[39;00m \u001B[38;5;28misinstance\u001B[39m(data, collections\u001B[38;5;241m.\u001B[39mabc\u001B[38;5;241m.\u001B[39mIterable):\n",
      "File \u001B[1;32mD:\\Anaconda3\\envs\\py3\\lib\\ssl.py:1204\u001B[0m, in \u001B[0;36mSSLSocket.sendall\u001B[1;34m(self, data, flags)\u001B[0m\n\u001B[0;32m   1202\u001B[0m         amount \u001B[38;5;241m=\u001B[39m \u001B[38;5;28mlen\u001B[39m(byte_view)\n\u001B[0;32m   1203\u001B[0m         \u001B[38;5;28;01mwhile\u001B[39;00m count \u001B[38;5;241m<\u001B[39m amount:\n\u001B[1;32m-> 1204\u001B[0m             v \u001B[38;5;241m=\u001B[39m \u001B[38;5;28;43mself\u001B[39;49m\u001B[38;5;241;43m.\u001B[39;49m\u001B[43msend\u001B[49m\u001B[43m(\u001B[49m\u001B[43mbyte_view\u001B[49m\u001B[43m[\u001B[49m\u001B[43mcount\u001B[49m\u001B[43m:\u001B[49m\u001B[43m]\u001B[49m\u001B[43m)\u001B[49m\n\u001B[0;32m   1205\u001B[0m             count \u001B[38;5;241m+\u001B[39m\u001B[38;5;241m=\u001B[39m v\n\u001B[0;32m   1206\u001B[0m \u001B[38;5;28;01melse\u001B[39;00m:\n",
      "File \u001B[1;32mD:\\Anaconda3\\envs\\py3\\lib\\ssl.py:1173\u001B[0m, in \u001B[0;36mSSLSocket.send\u001B[1;34m(self, data, flags)\u001B[0m\n\u001B[0;32m   1169\u001B[0m     \u001B[38;5;28;01mif\u001B[39;00m flags \u001B[38;5;241m!=\u001B[39m \u001B[38;5;241m0\u001B[39m:\n\u001B[0;32m   1170\u001B[0m         \u001B[38;5;28;01mraise\u001B[39;00m \u001B[38;5;167;01mValueError\u001B[39;00m(\n\u001B[0;32m   1171\u001B[0m             \u001B[38;5;124m\"\u001B[39m\u001B[38;5;124mnon-zero flags not allowed in calls to send() on \u001B[39m\u001B[38;5;132;01m%s\u001B[39;00m\u001B[38;5;124m\"\u001B[39m \u001B[38;5;241m%\u001B[39m\n\u001B[0;32m   1172\u001B[0m             \u001B[38;5;28mself\u001B[39m\u001B[38;5;241m.\u001B[39m\u001B[38;5;18m__class__\u001B[39m)\n\u001B[1;32m-> 1173\u001B[0m     \u001B[38;5;28;01mreturn\u001B[39;00m \u001B[38;5;28;43mself\u001B[39;49m\u001B[38;5;241;43m.\u001B[39;49m\u001B[43m_sslobj\u001B[49m\u001B[38;5;241;43m.\u001B[39;49m\u001B[43mwrite\u001B[49m\u001B[43m(\u001B[49m\u001B[43mdata\u001B[49m\u001B[43m)\u001B[49m\n\u001B[0;32m   1174\u001B[0m \u001B[38;5;28;01melse\u001B[39;00m:\n\u001B[0;32m   1175\u001B[0m     \u001B[38;5;28;01mreturn\u001B[39;00m \u001B[38;5;28msuper\u001B[39m()\u001B[38;5;241m.\u001B[39msend(data, flags)\n",
      "\u001B[1;31mKeyboardInterrupt\u001B[0m: "
     ]
    }
   ],
   "source": [
    "import os\n",
    "from pprint import pprint\n",
    "\n",
    "fileNameUrlDict = {}\n",
    "md_path = r'D:\\0a.dataout\\test\\lanzou\\fileNameUrl.md'\n",
    "\n",
    "\n",
    "def split_name_type(file_path):\n",
    "    \"\"\"分割文件路径, 返回文件类型, 文件名, 文件夹路径\"\"\"\n",
    "    splitext = os.path.splitext(file_path)\n",
    "    file_name = os.path.basename(splitext[0])\n",
    "    file_type = splitext[1][1:]\n",
    "    return file_type, file_name\n",
    "\n",
    "\n",
    "def writeToMd(file_path, content):\n",
    "    \"\"\"将内容写入文件\"\"\"\n",
    "    with open(file_path, 'a', encoding='utf-8') as f:\n",
    "        f.write(content)\n",
    "        print(content)\n",
    "\n",
    "\n",
    "def writeDictToMd():\n",
    "    \"\"\"将文件名和文件路径写入文件\"\"\"\n",
    "    with open(md_path, 'a', encoding='utf-8') as f:\n",
    "        for key, value in fileNameUrlDict.items():\n",
    "            f.write(f\"[{key}]({value})\\n\\n>\\n\\n\")\n",
    "\n",
    "\n",
    "def show_progress(file_name, total_size, now_size):\n",
    "    \"\"\"显示进度的回调函数\"\"\"\n",
    "    percent = now_size / total_size\n",
    "    bar_len = 40  # 进度条总长度\n",
    "    bar_str = '#' * round(bar_len * percent) + '=' * round(bar_len * (1 - percent))\n",
    "    print('\\r{:.2f}%\\t[{}] {:.1f}/{:.1f}MB | {} '.format(\n",
    "        percent * 100, bar_str, now_size / 1048576, total_size / 1048576, file_name), end='')\n",
    "    if total_size == now_size:\n",
    "        print('')  # 下载完成换行\n",
    "\n",
    "\n",
    "def handler(fid, is_file):\n",
    "    \"\"\"上传完成回调函数\"\"\"\n",
    "    if is_file:\n",
    "        lzy.set_passwd(fid, 'leo0')\n",
    "        # 获取文件链接\n",
    "        share_info = lzy.get_share_info(fid, is_file=True)\n",
    "        # 存储文件名和链接\n",
    "        fileNameUrlDict[share_info.name] = share_info.url\n",
    "\n",
    "\n",
    "def scanDir(dir_path, parent_dir_id=-1):\n",
    "    \"\"\"\n",
    "    遍历文件夹, 并上传文件\n",
    "    :param dir_path: 文件夹路径\n",
    "    :param parent_dir_id: 父文件夹id\n",
    "    :return:\n",
    "    \"\"\"\n",
    "    new_dir_id = 5479523\n",
    "    if os.path.isdir(dir_path):\n",
    "        # 获取父文件夹名\n",
    "        parent_folder_name = os.path.basename(dir_path)\n",
    "        # 将父目录名写入markdown\n",
    "        writeToMd(md_path, f'# [{parent_folder_name}]({dir_path})\\n\\n')\n",
    "        # 新建文件夹\n",
    "        # new_dir_id = lzy.mkdir(parent_dir_id, parent_folder_name)\n",
    "    # 函数初始化\n",
    "    global fileNameUrlDict\n",
    "    fileNameUrlDict = {}\n",
    "    dir_list = []  # 待处理文件夹列表\n",
    "    for _file in os.listdir(dir_path):\n",
    "        file_path = os.path.join(dir_path, _file)\n",
    "        # 文件, 直接上传\n",
    "        if os.path.isfile(file_path):\n",
    "            # lzy.upload_file(\n",
    "            #     file_path,\n",
    "            #     folder_id=new_dir_id,\n",
    "            #     callback=show_progress,\n",
    "            #     uploaded_handler=handler\n",
    "            # )\n",
    "            fileNameUrlDict[_file] = file_path\n",
    "        # 文件夹, 入队, 文件处理完成后统一处理\n",
    "        if os.path.isdir(file_path):\n",
    "            toDealDirPath = os.path.join(dir_path, _file)\n",
    "            dir_list.append(toDealDirPath)\n",
    "    # todo 文件上传完成后, 将数据写入markdown文件\n",
    "    for name in fileNameUrlDict:\n",
    "        writeToMd(md_path, f'[{name}]({fileNameUrlDict[name]})\\n\\n')\n",
    "    # 处理完文件后处理文件夹\n",
    "    for _dir_path in dir_list:\n",
    "        # scanDir(_dir_path, parent_dir_id=new_dir_id)\n",
    "        scanDir(_dir_path, parent_dir_id=1)\n",
    "\n",
    "\n",
    "# if 1==1:\n",
    "#     print('上传完成')\n",
    "#     print(lzy.get_file_list(5479523))\n",
    "\n",
    "scanDir(r'F:\\01_软件,环境\\01_工具')"
   ]
  },
  {
   "cell_type": "code",
   "execution_count": 41,
   "metadata": {
    "pycharm": {
     "name": "#%%\n"
    }
   },
   "outputs": [
    {
     "name": "stdout",
     "output_type": "stream",
     "text": [
      "01_软件,环境\n",
      "01_工具\n",
      "F:\\01_软件,环境\n"
     ]
    }
   ],
   "source": [
    "dir_path = r'F:\\01_软件,环境\\01_工具'\n",
    "parent_folder_name = os.path.basename(os.path.dirname(dir_path))\n",
    "print(parent_folder_name)\n",
    "print(os.path.basename(dir_path))\n",
    "print(os.path.dirname(dir_path))"
   ]
  },
  {
   "cell_type": "code",
   "execution_count": 35,
   "metadata": {
    "pycharm": {
     "name": "#%%\n"
    }
   },
   "outputs": [
    {
     "name": "stdout",
     "output_type": "stream",
     "text": [
      "[1, 2, 3, 4, 5]\n",
      "1\n",
      "[2, 3, 4, 5]\n",
      "2\n",
      "[3, 4, 5]\n",
      "3\n",
      "[4, 5]\n",
      "4\n",
      "[5]\n",
      "5\n"
     ]
    }
   ],
   "source": [
    "a = [1, 2, 3, 4, 5]\n",
    "while len(a) > 0:\n",
    "    print(a)\n",
    "    print(a.pop(0))"
   ]
  },
  {
   "cell_type": "markdown",
   "metadata": {
    "pycharm": {
     "name": "#%% md\n"
    }
   },
   "source": [
    "# 之前处理逻辑\n",
    "```python\n",
    "for root, dirs, files in os.walk(dir_path):\n",
    "    for _file in files:\n",
    "        file_path = os.path.join(root, _file)\n",
    "        # 上传文件, 在回调函数中获取链接, 存储到全局变量内\n",
    "        lzy.upload_file(\n",
    "            file_path,\n",
    "            folder_id=5479523,\n",
    "            callback=show_progress,\n",
    "            uploaded_handler=handler\n",
    "        )\n",
    "```"
   ]
  },
  {
   "cell_type": "code",
   "execution_count": 21,
   "metadata": {
    "pycharm": {
     "name": "#%%\n"
    }
   },
   "outputs": [
    {
     "name": "stdout",
     "output_type": "stream",
     "text": [
      "Fluent.Reader.Unpacked.1.0.1.x64.zip\n",
      "draw.io-14.6.13.exe\n",
      "ps7.7z\n",
      "Paint.net_4.2.14_Setup.zip\n",
      "JPEGView64.zip\n",
      "Image Eye.7z\n",
      "Honeyview_5.35_Portable.7z\n",
      "Uninstall Tool_绿色版.rar\n",
      "IObit Uninstaller_老毛子重新打包版.zip\n",
      "HiBitUninstaller_2.6.10.100_Single.exe\n",
      "迅雷.zip\n",
      "XDM.zip\n",
      "NeatDM_P.exe\n",
      "IDM.zip\n",
      "4_2_uTorrent.7z\n",
      "软媒_Dock_精简版.exe\n",
      "更换系统字体.zip\n",
      "开始菜单美化小工具_v3.9_v2.zip\n",
      "天选姬_TXMascot_B_V1.5.1.zip\n",
      "TrafficMonitor_V1.80.1_x64.zip\n",
      "T-Clock.zip\n",
      "StartIsBack_2.9.9_Setup.zip\n",
      "FliqloScr_3.zip\n",
      "7tt.exe\n",
      "傲梅分区.zip\n",
      "WiseCare365.zip\n",
      "WindowsUpdateBlocker_1.6_Green.zip\n",
      "WindowsDefenderControl_1.6_Green.zip\n",
      "Windows10Manager_3.4.7.0_Portable.7z\n",
      "Win R Adde.zip\n",
      "Unlocker_setup_1.1.2.exe\n",
      "RandomPW.zip\n",
      "FolderPainter.zip\n",
      "Everything_1.4.1.988_x64.zip\n",
      "ErrorLookup_2.3.3_setup.exe\n",
      "DnsJumper.zip\n",
      "ContextMenuManager.zip\n",
      "ColorPicker.exe\n",
      "CCleanerClassicEdtion_Ver.1.10.20.0501.7z\n",
      "TempCleaner.zip\n",
      "ReduceMemory.zip\n",
      "ProcessLassoPtach_1.9.7z\n",
      "Process Lasso_Pro.rar\n",
      "OOSU10.zip\n",
      "Easy Service Optimizer_v1.2.zip\n",
      "Dism .zip\n",
      "Cacheman_v10.60.zip\n",
      "PDFXChangeViewer.zip\n",
      "CAJViewerPortable.zip\n",
      "介绍.txt\n",
      "VNC-Viewer-6.21.406-Windows.exe\n",
      "VNC-Viewer-6.21.406-Linux-x86.deb\n",
      "VNC-Server-6.7.4-Windows.exe\n",
      "VNC-Server-6.7.4-Linux-x86.deb\n",
      "ventoy-1.0.63-windows.zip\n",
      "ventoy-1.0.62-windows.zip\n",
      "ventoy-1.0.47-windows.zip\n",
      "USBWriter.exe\n",
      "USBCopyer-master.zip\n",
      "rufus-3.14.exe\n",
      "Edgeless Hub_Beta_2.09.7z\n",
      "ToDesk_Setup.exe\n",
      "ToDesk_Lite_x64.exe\n",
      "Ubuntu.tar\n",
      "打开 本机识别码发我.exe\n",
      "01_向日葵_SunloginClient_12.0.1.39931_x64.exe\n",
      "01_64_sunlogin_client_lite_1.0.1.43315_x64.exe\n",
      "01_32_sunlogin_client_lite_1.0.1.43315.exe\n",
      "鼠标键盘统计KMCounter.exe\n",
      "鲁大师.exe\n",
      "驱动管理IObit_Driver_Booster_9.2.0.178_Portable.7z\n",
      "阿里小白羊版Win v2.12.05.exe\n",
      "阿里云盘变本地硬盘64位1.1.58.exe\n",
      "迅雷不限速绿色版.zip\n",
      "轻量级录屏oCam_v520.exe\n",
      "蜂蜜浏览器_HONEYVIEW-SETUP-V5.35.exe\n",
      "腾讯软件管理.exe\n",
      "罗技驱动.rar\n",
      "空间扫描工具_spacesniffer_1_3_0_2.zip\n",
      "禁用win更新WUB_1.6_Single.exe\n",
      "画图_SAI 2.0.rar\n",
      "电子书格式转换NeatConverter_4.0.1_Portable.7z\n",
      "瑞士军刀uTools-2.4.3.exe\n",
      "游戏下载器_pcstory5.0.zip\n",
      "格式工厂_setup.exe\n",
      "格式工厂.7z\n",
      "星愿浏览器.exe\n",
      "文件管理器XYplorer_23.00.0100_Portable.7z\n",
      "文件分析WizTree_4.08_Portable.7z\n",
      "搞机助手_V4.8.3.zip\n",
      "搜狗输入法v9.6a精简优化版.exe\n",
      "搜狗精简版.exe\n",
      "思维导图_XMind ZEN 2020 64bit.rar\n",
      "思维导图_mindmaster.exe\n",
      "微软运行库MSVBCRT.AIO.2022.04.09.exe\n",
      "微软常用运行库合集a.exe\n",
      "微软常用运行库合集 64位_2017.03.11.exe\n",
      "小米助手_3.2.522.32_setup.exe\n",
      "天若OCR文字识别_ncnn.7z\n",
      "哔哩哔哩UWP Ver4.3.10_x64.zip\n",
      "右键管理MenuMgr_1.2_Single.exe\n",
      "分区助手.exe\n",
      "内存清理WMOSetup_4.1.6.118.exe\n",
      "关闭Win10自动更新.exe\n",
      "修改文件名.exe\n",
      "便携版Google_Chrome_100.0.4896.60_64bit_Portable.7z\n",
      "便携版Firefox_98.0.0_tete009_64bit_Portable.7z\n",
      "专业LOGO设计软件.zip\n",
      "Xshell-7.0.0063.exe\n",
      "Xftp-7.0.0063p.exe\n",
      "winrar-x64-591scp.exe\n",
      "Typora_1.2.5.zip\n",
      "TIM3.3.0.21970.exe\n",
      "SoftDownloader.zip\n",
      "Snipaste.zip\n",
      "SanDisk文件保险箱V3.01_win.zip\n",
      "RocketDock-v1.3.5.exe\n",
      "RK_Keyboard_驱动_Setup_V1.0_0522.exe\n",
      "Q-Dir_Installer_x64_多页文件管理.exe\n",
      "PotPlayerSetup64_125.exe\n",
      "PDF工具PDF_Shaper_Professional_12.1_Portable.7z\n",
      "PandaOCR_2.72.zip\n",
      "npp.7.5.4.Installer.x64.exe\n",
      "MobaXterm_CHS.rar\n",
      "Listary.exe\n",
      "KMCounter.v3.7.zip\n",
      "IDM_v6.39.8_Repack.exe\n",
      "IDM 6.33.2.zip\n",
      "GUI_achieveV1.1.exe\n",
      "GitHub加速DevSidecar-1.7.2.exe\n",
      "Firefox-latest.exe\n",
      "Everything-1.4.1.1005.x64-Setup.exe\n",
      "Everything 1.5a.7z\n",
      "DropIt_v8.5.1_Setup.exe\n",
      "DiskGenius Professional 5.1.2.766  Crack.zip\n",
      "clover3.5.2谨慎.zip\n",
      "CloudDriveSetup-X64-1.1.38.1.exe\n",
      "ChromeSetup.exe\n",
      "CHM文件制作.zip\n",
      "CC助手_Setup-1.1.2-x64.exe\n",
      "CCleaner.exe\n",
      "BitDockSetup1.9.9.1320安装版.exe\n",
      "02_右键菜单编辑器.zip\n"
     ]
    }
   ],
   "source": [
    "for file in lzy.get_file_list(5479523):\n",
    "    print(file.name)"
   ]
  },
  {
   "cell_type": "markdown",
   "metadata": {
    "pycharm": {
     "name": "#%% md\n"
    }
   },
   "source": [
    "createFlag = lzy.mkdir(-1, 'test')\n",
    "if createFlag == LanZouCloud.SUCCESS:\n",
    "    print('创建成功')\n",
    "else:\n",
    "    print('创建失败')"
   ]
  },
  {
   "cell_type": "markdown",
   "metadata": {
    "pycharm": {
     "name": "#%% md\n"
    }
   },
   "source": [
    "lzy.rename_dir(5479523, '操作')\n",
    "print(lzy.get_dir_list())"
   ]
  },
  {
   "cell_type": "markdown",
   "metadata": {
    "pycharm": {
     "name": "#%% md\n"
    }
   },
   "source": [
    "os.path.getsize(r'D:\\0a.dataout\\test\\soft\\soft.html') / 1024\n",
    "# lzy.upload_file()"
   ]
  }
 ],
 "metadata": {
  "kernelspec": {
   "display_name": "Python 3 (ipykernel)",
   "language": "python",
   "name": "python3"
  },
  "language_info": {
   "codemirror_mode": {
    "name": "ipython",
    "version": 3
   },
   "file_extension": ".py",
   "mimetype": "text/x-python",
   "name": "python",
   "nbconvert_exporter": "python",
   "pygments_lexer": "ipython3",
   "version": "3.9.5"
  }
 },
 "nbformat": 4,
 "nbformat_minor": 1
}