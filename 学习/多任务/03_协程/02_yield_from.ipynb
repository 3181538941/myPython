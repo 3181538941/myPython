{
 "cells": [
  {
   "cell_type": "code",
   "execution_count": 14,
   "metadata": {
    "collapsed": true
   },
   "outputs": [],
   "source": [
    "import time\n",
    "\n",
    "\n",
    "def one_task():\n",
    "    print('begin task')\n",
    "    print('  begin big_step: ')\n",
    "    big_result = big_step()\n",
    "    print(f'  end big_step with {big_result}')\n",
    "    print('end_task')\n",
    "\n",
    "\n",
    "def big_step():\n",
    "    print('    begin small_step: ')\n",
    "    small_result = small_step()\n",
    "    print(f'    end small_step with {small_result}')\n",
    "    return small_result * 1000\n",
    "\n",
    "\n",
    "def small_step():\n",
    "    print('      工作中')\n",
    "    print('      歇会')\n",
    "    time.sleep(2)\n",
    "    print('      歇完了')\n",
    "\n",
    "    return 666"
   ]
  },
  {
   "cell_type": "code",
   "execution_count": 15,
   "outputs": [
    {
     "name": "stdout",
     "output_type": "stream",
     "text": [
      "begin task\n",
      "  begin big_step: \n",
      "    begin small_step: \n",
      "      工作中\n",
      "      歇会\n",
      "      歇完了\n",
      "    end small_step with 666\n",
      "  end big_step with 666000\n",
      "end_task\n"
     ]
    }
   ],
   "source": [
    "# 执行简单版本\n",
    "one_task()"
   ],
   "metadata": {
    "collapsed": false,
    "pycharm": {
     "name": "#%%\n"
    }
   }
  },
  {
   "cell_type": "markdown",
   "source": [
    "对 `small_step` 使用协程以避免阻塞, 顺便将函数名改为 `small_step_y`\n",
    "将 `time.sleep(1)` 改为 `yield time.sleep(1)`"
   ],
   "metadata": {
    "collapsed": false,
    "pycharm": {
     "name": "#%% md\n"
    }
   }
  },
  {
   "cell_type": "code",
   "execution_count": 16,
   "outputs": [],
   "source": [
    "def small_step_y():\n",
    "    print('      工作中')\n",
    "    # yield time.sleep(1)\n",
    "    # 自身无法消除阻塞, 将阻塞传给上游, 注: 此处 time.sleep, 1是作为元组传递的\n",
    "    print('      歇会')\n",
    "    yield time.sleep, 2\n",
    "    print('      歇完了')\n",
    "    return 666"
   ],
   "metadata": {
    "collapsed": false,
    "pycharm": {
     "name": "#%%\n"
    }
   }
  },
  {
   "cell_type": "markdown",
   "source": [
    "由于 `yield` 具有传染性, 调用他的函数也需要做相应改变"
   ],
   "metadata": {
    "collapsed": false,
    "pycharm": {
     "name": "#%% md\n"
    }
   }
  },
  {
   "cell_type": "code",
   "execution_count": 17,
   "outputs": [],
   "source": [
    "def big_step_y():\n",
    "    print('    begin small_step: ')\n",
    "    # small_result = small_step()\n",
    "    small_coro = small_step_y()\n",
    "    while True:\n",
    "        try:\n",
    "            x = small_coro.send(None)\n",
    "        except StopIteration as e:\n",
    "            small_result = e.value\n",
    "            break\n",
    "        else:\n",
    "            # 自己无法处理, 也传给上游\n",
    "            yield x\n",
    "\n",
    "    print(f'    end small_step with {small_result}')\n",
    "    return small_result * 1000"
   ],
   "metadata": {
    "collapsed": false,
    "pycharm": {
     "name": "#%%\n"
    }
   }
  },
  {
   "cell_type": "markdown",
   "source": [
    "这个函数是最上游, 需要对阻塞进行处理"
   ],
   "metadata": {
    "collapsed": false,
    "pycharm": {
     "name": "#%% md\n"
    }
   }
  },
  {
   "cell_type": "code",
   "execution_count": 18,
   "outputs": [],
   "source": [
    "def one_task_y():\n",
    "    print('begin task')\n",
    "    print('  begin big_step: ')\n",
    "    # big_result = big_step()\n",
    "    big_coro = big_step_y()\n",
    "    while True:\n",
    "        try:\n",
    "            x = big_coro.send(None)\n",
    "        except StopIteration as e:\n",
    "            big_result = e.value\n",
    "            break\n",
    "        else:\n",
    "            # 处理阻塞\n",
    "            func, arg = x\n",
    "            func(arg)\n",
    "    print(f'  end big_step with {big_result}')\n",
    "    print('end_task')"
   ],
   "metadata": {
    "collapsed": false,
    "pycharm": {
     "name": "#%%\n"
    }
   }
  },
  {
   "cell_type": "code",
   "execution_count": 19,
   "outputs": [
    {
     "name": "stdout",
     "output_type": "stream",
     "text": [
      "begin task\n",
      "  begin big_step: \n",
      "    begin small_step: \n",
      "      工作中\n",
      "      歇会\n",
      "      歇完了\n",
      "    end small_step with 666\n",
      "  end big_step with 666000\n",
      "end_task\n"
     ]
    }
   ],
   "source": [
    "one_task_y()"
   ],
   "metadata": {
    "collapsed": false,
    "pycharm": {
     "name": "#%%\n"
    }
   }
  },
  {
   "cell_type": "markdown",
   "source": [
    "# yield from 一统天下\n",
    "使用 yield from 来优化代码"
   ],
   "metadata": {
    "collapsed": false,
    "pycharm": {
     "name": "#%% md\n"
    }
   }
  },
  {
   "cell_type": "code",
   "execution_count": 20,
   "outputs": [],
   "source": [
    "class YieldFromAble:\n",
    "    def __init__(self, obj):\n",
    "        self.value = obj\n",
    "\n",
    "    def __iter__(self):\n",
    "        yield self\n",
    "\n",
    "\n",
    "def small_step_yf():\n",
    "    print('      工作中')\n",
    "    # yield time.sleep(1)\n",
    "    # 自身无法消除阻塞, 将阻塞传给上游, 注: 此处 time.sleep, 2是作为元组传递的\n",
    "    print('      歇会')\n",
    "    # 为了防止元组被当作可迭代对象来创造成一个生成器, 借助工具类YieldFromAble将元组统一进行返回\n",
    "    yield from YieldFromAble((time.sleep, 2))\n",
    "    print('      歇完了')\n",
    "    return 666\n",
    "\n",
    "\n",
    "def big_step_yf():\n",
    "    print('    begin small_step: ')\n",
    "\n",
    "    small_result = yield from small_step_yf()\n",
    "\n",
    "    print(f'    end small_step with {small_result}')\n",
    "    return small_result * 1000\n",
    "\n",
    "\n",
    "def one_task_yf():\n",
    "    print('begin task')\n",
    "    print('  begin big_step: ')\n",
    "\n",
    "    big_result = yield from big_step_yf()\n",
    "\n",
    "    print(f'  end big_step with {big_result}')\n",
    "    print('end_task')"
   ],
   "metadata": {
    "collapsed": false,
    "pycharm": {
     "name": "#%%\n"
    }
   }
  },
  {
   "cell_type": "markdown",
   "source": [
    "### 此时one_task_yf变成了一个新的生成器\n",
    " 完善代码, 需要创建一个任务驱动器"
   ],
   "metadata": {
    "collapsed": false,
    "pycharm": {
     "name": "#%% md\n"
    }
   }
  },
  {
   "cell_type": "code",
   "execution_count": 21,
   "outputs": [],
   "source": [
    "class TaskDrive:\n",
    "    def __init__(self, coro):\n",
    "        self.coro = coro\n",
    "\n",
    "    def run(self):\n",
    "        print('--' * 10)\n",
    "        while True:\n",
    "            try:\n",
    "                x = self.coro.send(None)\n",
    "            except StopIteration as e:\n",
    "                result = e.value\n",
    "                break\n",
    "            else:\n",
    "                # 处理阻塞\n",
    "                func, arg = x.value\n",
    "                func(arg)\n",
    "        print('--' * 10)"
   ],
   "metadata": {
    "collapsed": false,
    "pycharm": {
     "name": "#%%\n"
    }
   }
  },
  {
   "cell_type": "code",
   "execution_count": 22,
   "outputs": [
    {
     "name": "stdout",
     "output_type": "stream",
     "text": [
      "--------------------\n",
      "begin task\n",
      "  begin big_step: \n",
      "    begin small_step: \n",
      "      工作中\n",
      "      歇会\n",
      "      歇完了\n",
      "    end small_step with 666\n",
      "  end big_step with 666000\n",
      "end_task\n",
      "--------------------\n"
     ]
    }
   ],
   "source": [
    "t = TaskDrive(one_task_yf())\n",
    "t.run()"
   ],
   "metadata": {
    "collapsed": false,
    "pycharm": {
     "name": "#%%\n"
    }
   }
  }
 ],
 "metadata": {
  "kernelspec": {
   "display_name": "Python 3",
   "language": "python",
   "name": "python3"
  },
  "language_info": {
   "codemirror_mode": {
    "name": "ipython",
    "version": 2
   },
   "file_extension": ".py",
   "mimetype": "text/x-python",
   "name": "python",
   "nbconvert_exporter": "python",
   "pygments_lexer": "ipython2",
   "version": "2.7.6"
  }
 },
 "nbformat": 4,
 "nbformat_minor": 0
}