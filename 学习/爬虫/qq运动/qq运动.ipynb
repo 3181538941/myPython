{
 "cells": [
  {
   "cell_type": "markdown",
   "metadata": {
    "collapsed": true,
    "pycharm": {
     "name": "#%% md\n"
    }
   },
   "source": []
  },
  {
   "cell_type": "code",
   "execution_count": null,
   "outputs": [],
   "source": [
    "window.rawData = {\n",
    "    \"sceneInfo\"     : {\"notGd\": 1, \"notGs\": 1, \"notGz\": 1, \"canUseYb\": 0, \"xcxDl05\": 1, \"notBsgh\": 1}, \"templateType\": \"6\",\n",
    "    \"ecdi\"          : \"i1fKD_zUnzu7gn1BX9KX1w==\", \"oaid\": \"\", \"qrCode\": \"\", \"traceId\": \"\", \"isStaging\": false, \"brandScheme\": \"\",\n",
    "    \"longUrlQuery\"  : {\n",
    "        \"window_id\"         : \"30041\",\n",
    "        \"bg_img\"            : \"https://commimg.pddpic.com/mobile-spark/2022-07-15/6304896f-15bb-451e-a7be-fe671764c87c.jpeg\",\n",
    "        \"src\"               : \"weixin\", \"campaign\": \"red_packet\", \"xcard_id\": \"red_packet\", \"_x_campaign\": \"red_packet\",\n",
    "        \"_p_launch_src\"     : \"download\", \"cid\": \"red_packet_kl\", \"add_download_task\": \"1\", \"task_apk_tag\": \"3\", \"redirect\": \"0\",\n",
    "        \"task_thumb_tag\"    : \"44\", \"task_title_tag\": \"63\", \"img_url\": \"/images/home/2020-02-28/dc7c7653-977e-4432-b25f-44f5359601ab.gif\",\n",
    "        \"invite_code\"       : \"I6YH7WG5DI6F4K73QNAI56IXGY_GEXDA6D827B1DB8680442\", \"activity_params_keys\": \"invite_code\",\n",
    "        \"jumpUrl\"           : \"mhu_lucky.html?\\u0026_pdd_fs=1\\u0026_pdd_tc=ffffff\\u0026invite_code=I6YH7WG5DI6F4K73QNAI56IXGY_GEXDA6D827B1DB8680442\",\n",
    "        \"mss_lucky_avatar\"  : \"https://avatar2.pddpic.com/a/Q0IzWVpETERrbjBNZVFrbzZGdEtITHo2VFVNTlRtanpEUT09djA0-1656904741?imageMogr2/thumbnail/100x\",\n",
    "        \"mss_lucky_nickname\": \"美好的未来\", \"mss_lucky_download_type\": \"4\", \"chron_activity_code\": \"156\", \"host_type\": \"20\",\n",
    "        \"gray_options\"      : \"10135,10122,10098,10047,10096,10101,op_a_d,10082,10093,10048,10099,10108,10100,10121,10139,10105,10017,10142,10150,10141\",\n",
    "        \"mq_code\"           : \"2389625766673\", \"host_scene_id\": \"rp_lite_link3\",\n",
    "        \"back_ground_img\"   : \"/2022-02-06/5bd41725-a5dd-4720-a4bb-c8aa1d02007b.png\",\n",
    "        \"button_img\"        : \"/2022-02-06/cd5663a0-2acc-408f-a1d8-44e10b40cd8b_top_200.png\", \"static_page_type\": \"34\"\n",
    "    }, \"jqueryData\" : \"\", \"digestUrl\": \"\", \"pkg\": null, \"ulink\": \"\", \"packageDigest\": \"\", \"packageCdnAddress\": \"\", \"brand\": 0,\n",
    "    \"shortShareCode\": \"\", \"mpath\": \"\",\n",
    "    \"longUrl\"       : \"window_id=30041\\u0026bg_img=https%3A%2F%2Fcommimg.pddpic.com%2Fmobile-spark%2F2022-07-15%2F6304896f-15bb-451e-a7be-fe671764c87c.jpeg\\u0026src=weixin\\u0026campaign=red_packet\\u0026xcard_id=red_packet\\u0026_x_campaign=red_packet\\u0026_p_launch_src=download\\u0026cid=red_packet_kl\\u0026add_download_task=1\\u0026task_apk_tag=3\\u0026redirect=0\\u0026task_thumb_tag=44\\u0026task_title_tag=63\\u0026img_url=%2Fimages%2Fhome%2F2020-02-28%2Fdc7c7653-977e-4432-b25f-44f5359601ab.gif\\u0026invite_code=I6YH7WG5DI6F4K73QNAI56IXGY_GEXDA6D827B1DB8680442\\u0026activity_params_keys=invite_code\\u0026jumpUrl=mhu_lucky.html%3F%26_pdd_fs%3D1%26_pdd_tc%3Dffffff%26invite_code%3DI6YH7WG5DI6F4K73QNAI56IXGY_GEXDA6D827B1DB8680442\\u0026mss_lucky_avatar=https%3A%2F%2Favatar2.pddpic.com%2Fa%2FQ0IzWVpETERrbjBNZVFrbzZGdEtITHo2VFVNTlRtanpEUT09djA0-1656904741%3FimageMogr2%2Fthumbnail%2F100x\\u0026mss_lucky_nickname=%E7%BE%8E%E5%A5%BD%E7%9A%84%E6%9C%AA%E6%9D%A5\\u0026mss_lucky_download_type=4\\u0026chron_activity_code=156\\u0026host_type=20\\u0026gray_options=10135%2C10122%2C10098%2C10047%2C10096%2C10101%2Cop_a_d%2C10082%2C10093%2C10048%2C10099%2C10108%2C10100%2C10121%2C10139%2C10105%2C10017%2C10142%2C10150%2C10141\\u0026mq_code=2389625766673\\u0026host_scene_id=rp_lite_link3\\u0026back_ground_img=%2F2022-02-06%2F5bd41725-a5dd-4720-a4bb-c8aa1d02007b.png\\u0026button_img=%2F2022-02-06%2Fcd5663a0-2acc-408f-a1d8-44e10b40cd8b_top_200.png\\u0026static_page_type=34\",\n",
    "    \"digest\"        : \"\", \"shortInfo\": {\"shortKey\": \"2A1265\", \"shortValue\": \"zbESHna2L025Ruk\"}, \"pageType\": \"acw_sports\",\n",
    "    \"frameId\"       : \"xyster-f-trailer\", \"imgOuterId\": \"blond-io-ozonometer\", \"canOuterId\": \"silicon-co-equivalent\",\n",
    "    \"imgThemeId\"    : \"govern-itd-intelligent\"\n",
    "};"
   ],
   "metadata": {
    "collapsed": false,
    "pycharm": {
     "name": "#%%\n"
    }
   }
  },
  {
   "cell_type": "markdown",
   "source": [
    "POST /pushsport/cgi/rank/friends?g_tk=1854012578 HTTP/1.1\n",
    "Host: yundong.qq.com\n",
    "Connection: keep-alive\n",
    "Content-Length: 119\n",
    "Pragma: no-cache\n",
    "Cache-Control: no-cache\n",
    "Accept: application/json\n",
    "X-Requested-With: XMLHttpRequest\n",
    "User-Agent: Mozilla/5.0 (Linux; Android 12; M2102K1C Build/SKQ1.220303.001; wv) AppleWebKit/537.36 (KHTML, like Gecko) Version/4.0 Chrome/103.0.5060.71 Mobile Safari/537.36 V1_AND_SQ_8.4.18_1558_YYB_D A_8041800 QQ/8.4.18.4945 NetType/WIFI WebP/0.4.1 Pixel/1440 StatusBarHeight/138 SimpleUISwitch/1 QQTheme/2921 InMagicWin/0\n",
    "Content-Type: application/x-www-form-urlencoded\n",
    "Origin: https://yundong.qq.com\n",
    "Sec-Fetch-Site: same-origin\n",
    "Sec-Fetch-Mode: cors\n",
    "Sec-Fetch-Dest: empty\n",
    "Referer: https://yundong.qq.com/rank/friends?_wv=18950115&from=1&_wwv=265\n",
    "Accept-Encoding: gzip, deflate\n",
    "Accept-Language: zh-CN,zh;q=0.9,en-US;q=0.8,en;q=0.7\n",
    "Cookie: qq_locale_id=2052; uin=o3181538941; p_uin=o3181538941; p_skey=AbikNC13-uW9OBEmMMi-8LuRzyVgpUkRsSK1WOshr6s_; skey=M0kOExB5ND; qv_als=R2YFCzlMdbbi1ThzA11657935032+PZZig==; xClientProtoVer=https_https1"
   ],
   "metadata": {
    "collapsed": false,
    "pycharm": {
     "name": "#%% md\n"
    }
   }
  },
  {
   "cell_type": "markdown",
   "source": [
    "请求体\n",
    "dcapiKey=user_rank&l5apiKey=rank_friends&params={\n",
    "\t\"cmd\":1,\n",
    "\t\"pno\":3,\n",
    "\t\"dtype\":1,\n",
    "\t\"pnum\":20\n",
    "}"
   ],
   "metadata": {
    "collapsed": false,
    "pycharm": {
     "name": "#%% md\n"
    }
   }
  },
  {
   "cell_type": "markdown",
   "source": [
    "https://yundong.qq.com:443/pushsport/cgi/rank/friends?g_tk=1854012578"
   ],
   "metadata": {
    "collapsed": false,
    "pycharm": {
     "name": "#%% md\n"
    }
   }
  }
 ],
 "metadata": {
  "kernelspec": {
   "display_name": "Python 3",
   "language": "python",
   "name": "python3"
  },
  "language_info": {
   "codemirror_mode": {
    "name": "ipython",
    "version": 2
   },
   "file_extension": ".py",
   "mimetype": "text/x-python",
   "name": "python",
   "nbconvert_exporter": "python",
   "pygments_lexer": "ipython2",
   "version": "2.7.6"
  }
 },
 "nbformat": 4,
 "nbformat_minor": 0
}