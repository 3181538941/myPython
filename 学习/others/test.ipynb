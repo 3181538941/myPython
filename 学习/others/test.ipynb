{
 "cells": [
  {
   "cell_type": "code",
   "execution_count": 4,
   "outputs": [
    {
     "ename": "KeyboardInterrupt",
     "evalue": "",
     "output_type": "error",
     "traceback": [
      "\u001B[1;31m---------------------------------------------------------------------------\u001B[0m",
      "\u001B[1;31mKeyboardInterrupt\u001B[0m                         Traceback (most recent call last)",
      "Input \u001B[1;32mIn [4]\u001B[0m, in \u001B[0;36m<cell line: 28>\u001B[1;34m()\u001B[0m\n\u001B[0;32m     26\u001B[0m nums \u001B[38;5;241m=\u001B[39m [\u001B[38;5;241m5\u001B[39m, \u001B[38;5;241m2\u001B[39m, \u001B[38;5;241m6\u001B[39m, \u001B[38;5;241m1\u001B[39m]\n\u001B[0;32m     27\u001B[0m s \u001B[38;5;241m=\u001B[39m Solution()\n\u001B[1;32m---> 28\u001B[0m \u001B[38;5;28mprint\u001B[39m(\u001B[43ms\u001B[49m\u001B[38;5;241;43m.\u001B[39;49m\u001B[43mcountSmaller\u001B[49m\u001B[43m(\u001B[49m\u001B[43mnums\u001B[49m\u001B[43m)\u001B[49m)\n",
      "Input \u001B[1;32mIn [4]\u001B[0m, in \u001B[0;36mSolution.countSmaller\u001B[1;34m(self, nums)\u001B[0m\n\u001B[0;32m     13\u001B[0m target \u001B[38;5;241m=\u001B[39m i\n\u001B[0;32m     14\u001B[0m \u001B[38;5;28;01mwhile\u001B[39;00m l \u001B[38;5;241m<\u001B[39m\u001B[38;5;241m=\u001B[39m r:  \u001B[38;5;66;03m# l = 0, r = 3\u001B[39;00m\n\u001B[1;32m---> 15\u001B[0m     mid \u001B[38;5;241m=\u001B[39m \u001B[43m(\u001B[49m\u001B[43ml\u001B[49m\u001B[43m \u001B[49m\u001B[38;5;241;43m+\u001B[39;49m\u001B[43m \u001B[49m\u001B[43mr\u001B[49m\u001B[43m)\u001B[49m\u001B[43m \u001B[49m\u001B[38;5;241;43m/\u001B[39;49m\u001B[38;5;241;43m/\u001B[39;49m\u001B[43m \u001B[49m\u001B[38;5;241;43m2\u001B[39;49m  \u001B[38;5;66;03m# mid = 2\u001B[39;00m\n\u001B[0;32m     16\u001B[0m     \u001B[38;5;28;01mif\u001B[39;00m nums1[mid] \u001B[38;5;241m<\u001B[39m target:  \u001B[38;5;66;03m#\u001B[39;00m\n\u001B[0;32m     17\u001B[0m         l \u001B[38;5;241m=\u001B[39m mid \u001B[38;5;241m+\u001B[39m \u001B[38;5;241m1\u001B[39m\n",
      "\u001B[1;31mKeyboardInterrupt\u001B[0m: "
     ]
    }
   ],
   "source": [
    "from typing import List\n",
    "\n",
    "\n",
    "class Solution:\n",
    "    def countSmaller(self, nums: List[int]) -> List[int]:\n",
    "        l, r, ass = 0, len(nums) - 1, -1\n",
    "        nums1 = sorted(nums)\n",
    "        counts = []\n",
    "        if len(nums) == 0 or len(nums) == 1:\n",
    "            return [0]\n",
    "        if len(nums) > 1:\n",
    "            for i in nums:\n",
    "                target = i\n",
    "                while l <= r:  # l = 0, r = 3\n",
    "                    mid = (l + r) // 2  # mid = 2\n",
    "                    if nums1[mid] < target:  #\n",
    "                        l = mid + 1\n",
    "                    elif nums1[mid] > target:\n",
    "                        r = mid - 1\n",
    "                    else:\n",
    "                        c = nums1.index(target)\n",
    "                        counts.append(c)\n",
    "        return counts\n",
    "\n",
    "\n",
    "nums = [5, 2, 6, 1]\n",
    "s = Solution()\n",
    "print(s.countSmaller(nums))"
   ],
   "metadata": {
    "collapsed": false,
    "pycharm": {
     "name": "#%%\n"
    }
   }
  },
  {
   "cell_type": "code",
   "execution_count": null,
   "outputs": [],
   "source": [],
   "metadata": {
    "collapsed": false,
    "pycharm": {
     "name": "#%%\n"
    }
   }
  }
 ],
 "metadata": {
  "kernelspec": {
   "display_name": "Python 3",
   "language": "python",
   "name": "python3"
  },
  "language_info": {
   "codemirror_mode": {
    "name": "ipython",
    "version": 2
   },
   "file_extension": ".py",
   "mimetype": "text/x-python",
   "name": "python",
   "nbconvert_exporter": "python",
   "pygments_lexer": "ipython2",
   "version": "2.7.6"
  }
 },
 "nbformat": 4,
 "nbformat_minor": 0
}